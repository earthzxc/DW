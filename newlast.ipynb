{
  "nbformat": 4,
  "nbformat_minor": 0,
  "metadata": {
    "colab": {
      "name": "Copy of Copy of new.ipynb",
      "provenance": [],
      "include_colab_link": true
    },
    "kernelspec": {
      "name": "python3",
      "display_name": "Python 3"
    }
  },
  "cells": [
    {
      "cell_type": "markdown",
      "metadata": {
        "id": "view-in-github",
        "colab_type": "text"
      },
      "source": [
        "<a href=\"https://colab.research.google.com/github/earthzxc/DW/blob/master/newlast.ipynb\" target=\"_parent\"><img src=\"https://colab.research.google.com/assets/colab-badge.svg\" alt=\"Open In Colab\"/></a>"
      ]
    },
    {
      "cell_type": "code",
      "metadata": {
        "id": "mHfsI5uajEAS",
        "colab_type": "code",
        "colab": {}
      },
      "source": [
        "import numpy as np"
      ],
      "execution_count": 0,
      "outputs": []
    },
    {
      "cell_type": "code",
      "metadata": {
        "id": "wPDu-ROzkDGE",
        "colab_type": "code",
        "outputId": "f345c7f7-29ae-4746-fe7d-972dc8c0d18a",
        "colab": {
          "base_uri": "https://localhost:8080/",
          "height": 34
        }
      },
      "source": [
        "l = [1,2,3,4,5]\n",
        "np_array = np.array(1)\n",
        "type(np_array)"
      ],
      "execution_count": 0,
      "outputs": [
        {
          "output_type": "execute_result",
          "data": {
            "text/plain": [
              "numpy.ndarray"
            ]
          },
          "metadata": {
            "tags": []
          },
          "execution_count": 6
        }
      ]
    },
    {
      "cell_type": "code",
      "metadata": {
        "id": "a1b0S5D3kU64",
        "colab_type": "code",
        "colab": {}
      },
      "source": [
        "np_matrix = np.array([[1,2],[3,4],[5,6]])"
      ],
      "execution_count": 0,
      "outputs": []
    },
    {
      "cell_type": "code",
      "metadata": {
        "id": "IpybWugNkjT8",
        "colab_type": "code",
        "outputId": "8290e485-7439-45bc-d27d-8a24c80a4a3a",
        "colab": {
          "base_uri": "https://localhost:8080/",
          "height": 67
        }
      },
      "source": [
        "np_matrix"
      ],
      "execution_count": 0,
      "outputs": [
        {
          "output_type": "execute_result",
          "data": {
            "text/plain": [
              "array([[1, 2],\n",
              "       [3, 4],\n",
              "       [5, 6]])"
            ]
          },
          "metadata": {
            "tags": []
          },
          "execution_count": 8
        }
      ]
    },
    {
      "cell_type": "code",
      "metadata": {
        "id": "paNqOfJkjAIG",
        "colab_type": "code",
        "outputId": "63223d29-695d-4352-af1f-4d9ec7328e8f",
        "colab": {
          "base_uri": "https://localhost:8080/",
          "height": 50
        }
      },
      "source": [
        "np.linspace(0,2,7)"
      ],
      "execution_count": 0,
      "outputs": [
        {
          "output_type": "execute_result",
          "data": {
            "text/plain": [
              "array([0.        , 0.33333333, 0.66666667, 1.        , 1.33333333,\n",
              "       1.66666667, 2.        ])"
            ]
          },
          "metadata": {
            "tags": []
          },
          "execution_count": 9
        }
      ]
    },
    {
      "cell_type": "code",
      "metadata": {
        "id": "4Owc1ck2lLHg",
        "colab_type": "code",
        "colab": {}
      },
      "source": [
        ""
      ],
      "execution_count": 0,
      "outputs": []
    },
    {
      "cell_type": "markdown",
      "metadata": {
        "id": "3XXLSAAbou8F",
        "colab_type": "text"
      },
      "source": [
        "#ex3"
      ]
    },
    {
      "cell_type": "code",
      "metadata": {
        "id": "seGi0xSKo9t9",
        "colab_type": "code",
        "colab": {}
      },
      "source": [
        "import matplotlib.pyplot as plt"
      ],
      "execution_count": 0,
      "outputs": []
    },
    {
      "cell_type": "code",
      "metadata": {
        "id": "-3hSeehypBaX",
        "colab_type": "code",
        "colab": {}
      },
      "source": [
        "x = np.linspace(0,12,100)"
      ],
      "execution_count": 0,
      "outputs": []
    },
    {
      "cell_type": "code",
      "metadata": {
        "id": "HsiBpXzrrpk0",
        "colab_type": "code",
        "outputId": "60bcf4af-dbe6-4a6c-9d53-528476584e33",
        "colab": {
          "base_uri": "https://localhost:8080/",
          "height": 282
        }
      },
      "source": [
        "plt.plot(x,np.cos(x),label='cos(x)')"
      ],
      "execution_count": 0,
      "outputs": [
        {
          "output_type": "execute_result",
          "data": {
            "text/plain": [
              "[<matplotlib.lines.Line2D at 0x7eff7b795a58>]"
            ]
          },
          "metadata": {
            "tags": []
          },
          "execution_count": 4
        },
        {
          "output_type": "display_data",
          "data": {
            "image/png": "[encoded data removed]",
            "text/plain": [
              "<Figure size 432x288 with 1 Axes>"
            ]
          },
          "metadata": {
            "tags": []
          }
        }
      ]
    },
    {
      "cell_type": "markdown",
      "metadata": {
        "id": "g_5WCXW2lOmE",
        "colab_type": "text"
      },
      "source": [
        "#ex4"
      ]
    },
    {
      "cell_type": "code",
      "metadata": {
        "id": "Hy09-LIqlQN7",
        "colab_type": "code",
        "colab": {}
      },
      "source": [
        "np_test= np.arange(25).reshape(5,5)"
      ],
      "execution_count": 0,
      "outputs": []
    },
    {
      "cell_type": "code",
      "metadata": {
        "id": "B6UOUywpnfi9",
        "colab_type": "code",
        "outputId": "fcca8e94-15b6-4f25-9fcb-3cbf8cb58b06",
        "colab": {
          "base_uri": "https://localhost:8080/",
          "height": 34
        }
      },
      "source": [
        "np_test2 =np_test%3 == 0\n",
        "np_test[np_test2]"
      ],
      "execution_count": 0,
      "outputs": [
        {
          "output_type": "execute_result",
          "data": {
            "text/plain": [
              "array([ 0,  3,  6,  9, 12, 15, 18, 21, 24])"
            ]
          },
          "metadata": {
            "tags": []
          },
          "execution_count": 14
        }
      ]
    },
    {
      "cell_type": "markdown",
      "metadata": {
        "id": "zVcbxNHtleWE",
        "colab_type": "text"
      },
      "source": [
        "#ex5"
      ]
    },
    {
      "cell_type": "code",
      "metadata": {
        "id": "l0OYCsYclf7T",
        "colab_type": "code",
        "colab": {}
      },
      "source": [
        "np_test= np.arange(25).reshape(5,5)\n",
        "np.fill_diagonal(np_test,0)"
      ],
      "execution_count": 0,
      "outputs": []
    },
    {
      "cell_type": "code",
      "metadata": {
        "id": "l0noho_UnLJQ",
        "colab_type": "code",
        "outputId": "533957aa-81fe-43ce-d23e-8543dbe28d70",
        "colab": {
          "base_uri": "https://localhost:8080/",
          "height": 101
        }
      },
      "source": [
        "np_test"
      ],
      "execution_count": 0,
      "outputs": [
        {
          "output_type": "execute_result",
          "data": {
            "text/plain": [
              "array([[ 0,  1,  2,  3,  4],\n",
              "       [ 5,  0,  7,  8,  9],\n",
              "       [10, 11,  0, 13, 14],\n",
              "       [15, 16, 17,  0, 19],\n",
              "       [20, 21, 22, 23,  0]])"
            ]
          },
          "metadata": {
            "tags": []
          },
          "execution_count": 16
        }
      ]
    },
    {
      "cell_type": "markdown",
      "metadata": {
        "id": "E04gHA_fwsRn",
        "colab_type": "text"
      },
      "source": [
        "#Load Titanic Data"
      ]
    },
    {
      "cell_type": "code",
      "metadata": {
        "id": "ohPnWpbu9WU5",
        "colab_type": "code",
        "colab": {}
      },
      "source": [
        "import numpy as np\n",
        "titanics = np.genfromtxt('https://raw.githubusercontent.com/earthzxc/DW/master/5555.csv',delimiter=';',missing_values = None,dtype=str)"
      ],
      "execution_count": 0,
      "outputs": []
    },
    {
      "cell_type": "code",
      "metadata": {
        "id": "CkjQGi8V_lzD",
        "colab_type": "code",
        "outputId": "7d2b80e8-a1eb-4771-c9fd-55d1d2d05997",
        "colab": {
          "base_uri": "https://localhost:8080/",
          "height": 235
        }
      },
      "source": [
        "titanics"
      ],
      "execution_count": 0,
      "outputs": [
        {
          "output_type": "execute_result",
          "data": {
            "text/plain": [
              "array([['\"Passenger Class\"', '\"Name\"', '\"Sex\"', ...,\n",
              "        '\"Port of Embarkation\"', '\"Life Boat\"', '\"Survived\"'],\n",
              "       ['\"First\"', '\"Allen, Miss. Elisabeth Walton\"', '\"Female\"', ...,\n",
              "        '\"Southampton\"', '\"2\"', '\"Yes\"'],\n",
              "       ['\"First\"', '\"Allison, Master. Hudson Trevor\"', '\"Male\"', ...,\n",
              "        '\"Southampton\"', '\"11\"', '\"Yes\"'],\n",
              "       ...,\n",
              "       ['\"Third\"', '\"Zakarian, Mr. Mapriededer\"', '\"Male\"', ...,\n",
              "        '\"Cherbourg\"', '', '\"No\"'],\n",
              "       ['\"Third\"', '\"Zakarian, Mr. Ortin\"', '\"Male\"', ..., '\"Cherbourg\"',\n",
              "        '', '\"No\"'],\n",
              "       ['\"Third\"', '\"Zimmerman, Mr. Leo\"', '\"Male\"', ...,\n",
              "        '\"Southampton\"', '', '\"No\"']], dtype='<U84')"
            ]
          },
          "metadata": {
            "tags": []
          },
          "execution_count": 99
        }
      ]
    },
    {
      "cell_type": "code",
      "metadata": {
        "id": "7QCNYiqN_mJR",
        "colab_type": "code",
        "outputId": "941252b2-bd75-42ce-b86e-aeef79fb6c5c",
        "colab": {
          "base_uri": "https://localhost:8080/",
          "height": 105
        }
      },
      "source": [
        "titanics[0,:]"
      ],
      "execution_count": 0,
      "outputs": [
        {
          "output_type": "execute_result",
          "data": {
            "text/plain": [
              "array(['\"Passenger Class\"', '\"Name\"', '\"Sex\"', '\"Age\"',\n",
              "       '\"No of Siblings or Spouses on Board\"',\n",
              "       '\"No of Parents or Children on Board\"', '\"Ticket Number\"',\n",
              "       '\"Passenger Fare\"', '\"Cabin\"', '\"Port of Embarkation\"',\n",
              "       '\"Life Boat\"', '\"Survived\"'], dtype='<U84')"
            ]
          },
          "metadata": {
            "tags": []
          },
          "execution_count": 6
        }
      ]
    },
    {
      "cell_type": "code",
      "metadata": {
        "id": "0dYLC1tx_o4R",
        "colab_type": "code",
        "colab": {}
      },
      "source": [
        "titanics = np.delete(titanics,[1,6,7,8,9,10],1)"
      ],
      "execution_count": 0,
      "outputs": []
    },
    {
      "cell_type": "code",
      "metadata": {
        "id": "E0s2ONel_raB",
        "colab_type": "code",
        "outputId": "92cd5e3d-7a20-4575-aace-028db1441e72",
        "colab": {
          "base_uri": "https://localhost:8080/",
          "height": 70
        }
      },
      "source": [
        "titanics[0,:]"
      ],
      "execution_count": 0,
      "outputs": [
        {
          "output_type": "execute_result",
          "data": {
            "text/plain": [
              "array(['\"Passenger Class\"', '\"Sex\"', '\"Age\"',\n",
              "       '\"No of Siblings or Spouses on Board\"',\n",
              "       '\"No of Parents or Children on Board\"', '\"Survived\"'], dtype='<U84')"
            ]
          },
          "metadata": {
            "tags": []
          },
          "execution_count": 8
        }
      ]
    },
    {
      "cell_type": "code",
      "metadata": {
        "id": "-x49mInO_s5J",
        "colab_type": "code",
        "outputId": "747c86ad-b3ba-445c-b406-1085afc9c3e6",
        "colab": {
          "base_uri": "https://localhost:8080/",
          "height": 34
        }
      },
      "source": [
        "rows, cols = np.where(titanics == None)\n",
        "print(str(len(np.unique(rows)))+\" \"+str(len(np.unique(cols))))"
      ],
      "execution_count": 0,
      "outputs": [
        {
          "output_type": "stream",
          "text": [
            "0 0\n"
          ],
          "name": "stdout"
        }
      ]
    },
    {
      "cell_type": "code",
      "metadata": {
        "id": "4Pa2pHmv_vHZ",
        "colab_type": "code",
        "outputId": "8240a1ae-7879-4061-b882-a78976596f31",
        "colab": {
          "base_uri": "https://localhost:8080/",
          "height": 34
        }
      },
      "source": [
        "rows, cols = np.where(titanics == '')\n",
        "print(str(len(np.unique(rows)))+\" \"+str(len(np.unique(cols))))"
      ],
      "execution_count": 0,
      "outputs": [
        {
          "output_type": "stream",
          "text": [
            "263 1\n"
          ],
          "name": "stdout"
        }
      ]
    },
    {
      "cell_type": "code",
      "metadata": {
        "id": "1lF6rxis_w7R",
        "colab_type": "code",
        "outputId": "6787aad5-cafd-4404-ebdb-aba023cdcf5d",
        "colab": {
          "base_uri": "https://localhost:8080/",
          "height": 167
        }
      },
      "source": [
        "np.unique(cols)"
      ],
      "execution_count": 0,
      "outputs": [
        {
          "output_type": "error",
          "ename": "NameError",
          "evalue": "ignored",
          "traceback": [
            "\u001b[0;31m---------------------------------------------------------------------------\u001b[0m",
            "\u001b[0;31mNameError\u001b[0m                                 Traceback (most recent call last)",
            "\u001b[0;32m<ipython-input-10-a4f2af5e515b>\u001b[0m in \u001b[0;36m<module>\u001b[0;34m()\u001b[0m\n\u001b[0;32m----> 1\u001b[0;31m \u001b[0mnp\u001b[0m\u001b[0;34m.\u001b[0m\u001b[0munique\u001b[0m\u001b[0;34m(\u001b[0m\u001b[0mcols\u001b[0m\u001b[0;34m)\u001b[0m\u001b[0;34m\u001b[0m\u001b[0;34m\u001b[0m\u001b[0m\n\u001b[0m",
            "\u001b[0;31mNameError\u001b[0m: name 'cols' is not defined"
          ]
        }
      ]
    },
    {
      "cell_type": "code",
      "metadata": {
        "id": "g8-gDPE2_yp5",
        "colab_type": "code",
        "outputId": "9eae0114-3d30-4387-d2c6-469682cbae58",
        "colab": {
          "base_uri": "https://localhost:8080/",
          "height": 70
        }
      },
      "source": [
        "titanics = np.delete(titanics,2,1)\n",
        "titanics[0,:]"
      ],
      "execution_count": 0,
      "outputs": [
        {
          "output_type": "execute_result",
          "data": {
            "text/plain": [
              "array(['\"Passenger Class\"', '\"Sex\"',\n",
              "       '\"No of Siblings or Spouses on Board\"',\n",
              "       '\"No of Parents or Children on Board\"', '\"Survived\"'], dtype='<U84')"
            ]
          },
          "metadata": {
            "tags": []
          },
          "execution_count": 11
        }
      ]
    },
    {
      "cell_type": "code",
      "metadata": {
        "id": "-4FklJUW_0dZ",
        "colab_type": "code",
        "colab": {}
      },
      "source": [
        "header = titanics[0,:]; titanics = np.delete(titanics,0,0)"
      ],
      "execution_count": 0,
      "outputs": []
    },
    {
      "cell_type": "code",
      "metadata": {
        "id": "F1wR8mJwABjx",
        "colab_type": "code",
        "outputId": "0ff610cc-db67-4bf1-8518-784def3d9b5f",
        "colab": {
          "base_uri": "https://localhost:8080/",
          "height": 34
        }
      },
      "source": [
        "passenger_class = np.unique(titanics[:,0])\n",
        "passenger_class"
      ],
      "execution_count": 0,
      "outputs": [
        {
          "output_type": "execute_result",
          "data": {
            "text/plain": [
              "array(['\"First\"', '\"Second\"', '\"Third\"'], dtype='<U84')"
            ]
          },
          "metadata": {
            "tags": []
          },
          "execution_count": 13
        }
      ]
    },
    {
      "cell_type": "code",
      "metadata": {
        "id": "YylozOlYAL6J",
        "colab_type": "code",
        "outputId": "e7cf6b27-79ce-4c18-ebfb-26c8613ee684",
        "colab": {
          "base_uri": "https://localhost:8080/",
          "height": 34
        }
      },
      "source": [
        "passenger_class_value = [sum(titanics[:,0]==passenger_class[0]),\n",
        "                         sum(titanics[:,0]==passenger_class[1]),\n",
        "                         sum(titanics[:,0]==passenger_class[2]) ]\n",
        "passenger_class_value\n",
        "                         "
      ],
      "execution_count": 0,
      "outputs": [
        {
          "output_type": "execute_result",
          "data": {
            "text/plain": [
              "[323, 277, 709]"
            ]
          },
          "metadata": {
            "tags": []
          },
          "execution_count": 14
        }
      ]
    },
    {
      "cell_type": "code",
      "metadata": {
        "id": "wfbmdqLqA6CB",
        "colab_type": "code",
        "outputId": "103ab526-c0d9-4722-ab72-5ff0d9d553ee",
        "colab": {
          "base_uri": "https://localhost:8080/",
          "height": 282
        }
      },
      "source": [
        "plt.bar(passenger_class, passenger_class_value)"
      ],
      "execution_count": 0,
      "outputs": [
        {
          "output_type": "execute_result",
          "data": {
            "text/plain": [
              "<BarContainer object of 3 artists>"
            ]
          },
          "metadata": {
            "tags": []
          },
          "execution_count": 15
        },
        {
          "output_type": "display_data",
          "data": {
            "image/png": "[encoded data removed]",
            "text/plain": [
              "<Figure size 432x288 with 1 Axes>"
            ]
          },
          "metadata": {
            "tags": []
          }
        }
      ]
    },
    {
      "cell_type": "code",
      "metadata": {
        "id": "rZhHlPYTBGOx",
        "colab_type": "code",
        "outputId": "8bd73637-1951-4e7e-d6c4-fe4d5db08a57",
        "colab": {
          "base_uri": "https://localhost:8080/",
          "height": 164
        }
      },
      "source": [
        "array(['Female\"', 'Male'], dtype='<U84')"
      ],
      "execution_count": 0,
      "outputs": [
        {
          "output_type": "error",
          "ename": "NameError",
          "evalue": "ignored",
          "traceback": [
            "\u001b[0;31m---------------------------------------------------------------------------\u001b[0m",
            "\u001b[0;31mNameError\u001b[0m                                 Traceback (most recent call last)",
            "\u001b[0;32m<ipython-input-40-25c04e8ddf8b>\u001b[0m in \u001b[0;36m<module>\u001b[0;34m()\u001b[0m\n\u001b[0;32m----> 1\u001b[0;31m \u001b[0marray\u001b[0m\u001b[0;34m(\u001b[0m\u001b[0;34m[\u001b[0m\u001b[0;34m'Female\"'\u001b[0m\u001b[0;34m,\u001b[0m \u001b[0;34m'Male'\u001b[0m\u001b[0;34m]\u001b[0m\u001b[0;34m,\u001b[0m \u001b[0mdtype\u001b[0m\u001b[0;34m=\u001b[0m\u001b[0;34m'<U84'\u001b[0m\u001b[0;34m)\u001b[0m\u001b[0;34m\u001b[0m\u001b[0;34m\u001b[0m\u001b[0m\n\u001b[0m",
            "\u001b[0;31mNameError\u001b[0m: name 'array' is not defined"
          ]
        }
      ]
    },
    {
      "cell_type": "markdown",
      "metadata": {
        "id": "qFbjLJ1FB_fk",
        "colab_type": "text"
      },
      "source": [
        "#ex6"
      ]
    },
    {
      "cell_type": "code",
      "metadata": {
        "id": "kFn6GOQcCCZh",
        "colab_type": "code",
        "colab": {}
      },
      "source": [
        "header = titanics[0,:]; titanics = np.delete(titanics,0,0)"
      ],
      "execution_count": 0,
      "outputs": []
    },
    {
      "cell_type": "code",
      "metadata": {
        "id": "f96fvo37CO6U",
        "colab_type": "code",
        "outputId": "0c0e4139-8060-48a5-aae6-47f29519ca60",
        "colab": {
          "base_uri": "https://localhost:8080/",
          "height": 34
        }
      },
      "source": [
        "gender = np.unique(titanics[:,1])\n",
        "gender"
      ],
      "execution_count": 0,
      "outputs": [
        {
          "output_type": "execute_result",
          "data": {
            "text/plain": [
              "array(['\"Female\"', '\"Male\"'], dtype='<U84')"
            ]
          },
          "metadata": {
            "tags": []
          },
          "execution_count": 18
        }
      ]
    },
    {
      "cell_type": "code",
      "metadata": {
        "id": "UsvrL-tMCVgZ",
        "colab_type": "code",
        "outputId": "1032a6b4-88e0-4ea5-bc9f-69a20500801d",
        "colab": {
          "base_uri": "https://localhost:8080/",
          "height": 34
        }
      },
      "source": [
        "gender_value = [sum(titanics[:,1]==gender[0]),\n",
        "                sum(titanics[:,1]==gender[1]) ]\n",
        "gender_value\n",
        "                         "
      ],
      "execution_count": 0,
      "outputs": [
        {
          "output_type": "execute_result",
          "data": {
            "text/plain": [
              "[465, 843]"
            ]
          },
          "metadata": {
            "tags": []
          },
          "execution_count": 19
        }
      ]
    },
    {
      "cell_type": "code",
      "metadata": {
        "id": "SIq1aiVRKyLm",
        "colab_type": "code",
        "outputId": "7fdf584f-b802-4925-b840-ed4627608521",
        "colab": {
          "base_uri": "https://localhost:8080/",
          "height": 34
        }
      },
      "source": [
        "sur = np.unique(titanics[:,4])\n",
        "sur"
      ],
      "execution_count": 0,
      "outputs": [
        {
          "output_type": "execute_result",
          "data": {
            "text/plain": [
              "array(['\"No\"', '\"Yes\"'], dtype='<U84')"
            ]
          },
          "metadata": {
            "tags": []
          },
          "execution_count": 20
        }
      ]
    },
    {
      "cell_type": "code",
      "metadata": {
        "id": "sn75eYHMLt_N",
        "colab_type": "code",
        "outputId": "5dfacbaa-98d8-4158-c2aa-28044c39fd89",
        "colab": {
          "base_uri": "https://localhost:8080/",
          "height": 34
        }
      },
      "source": [
        "sur_value = [sum(titanics[:,4]==sur[0]),\n",
        "                sum(titanics[:,4]==sur[1]) ]\n",
        "sur_value\n",
        "             "
      ],
      "execution_count": 0,
      "outputs": [
        {
          "output_type": "execute_result",
          "data": {
            "text/plain": [
              "[809, 499]"
            ]
          },
          "metadata": {
            "tags": []
          },
          "execution_count": 21
        }
      ]
    },
    {
      "cell_type": "code",
      "metadata": {
        "id": "cPggY3srHsiw",
        "colab_type": "code",
        "outputId": "ce895a01-03ce-49d2-fd96-459691d3fef3",
        "colab": {
          "base_uri": "https://localhost:8080/",
          "height": 211
        }
      },
      "source": [
        "fig, axes = plt.subplots(1,2,figsize=(8,3))\n",
        "axes[0].bar(gender,gender_value)\n",
        "axes[1].bar(sur,sur_value)\n",
        "plt.show()\n",
        "\n"
      ],
      "execution_count": 0,
      "outputs": [
        {
          "output_type": "display_data",
          "data": {
            "image/png": "[encoded data removed]",
            "text/plain": [
              "<Figure size 576x216 with 2 Axes>"
            ]
          },
          "metadata": {
            "tags": []
          }
        }
      ]
    },
    {
      "cell_type": "code",
      "metadata": {
        "id": "Wi5mYZzHMcvG",
        "colab_type": "code",
        "colab": {}
      },
      "source": [
        ""
      ],
      "execution_count": 0,
      "outputs": []
    },
    {
      "cell_type": "markdown",
      "metadata": {
        "id": "ppGEH2OGNdQz",
        "colab_type": "text"
      },
      "source": [
        "#EX7"
      ]
    },
    {
      "cell_type": "code",
      "metadata": {
        "id": "1tA4mBZYSmk1",
        "colab_type": "code",
        "outputId": "a216b451-d588-4b2b-9cd0-ee03816d6aeb",
        "colab": {
          "base_uri": "https://localhost:8080/",
          "height": 141
        }
      },
      "source": [
        "titanics[titanics == passenger_class[0]] = 0\n",
        "titanics[titanics == passenger_class[1]] = 1\n",
        "titanics[titanics == passenger_class[2]] = 2\n",
        "titanics[titanics == gender[0]] = 0\n",
        "titanics[titanics == gender[1]] = 1\n",
        "titanics[titanics == sur[0]] = 0\n",
        "titanics[titanics == sur[1]] = 1\n",
        "\n",
        "titanics"
      ],
      "execution_count": 0,
      "outputs": [
        {
          "output_type": "execute_result",
          "data": {
            "text/plain": [
              "array([['0', '1', '1', '2', '1'],\n",
              "       ['0', '0', '1', '2', '0'],\n",
              "       ['0', '1', '1', '2', '0'],\n",
              "       ...,\n",
              "       ['2', '1', '0', '0', '0'],\n",
              "       ['2', '1', '0', '0', '0'],\n",
              "       ['2', '1', '0', '0', '0']], dtype='<U84')"
            ]
          },
          "metadata": {
            "tags": []
          },
          "execution_count": 23
        }
      ]
    },
    {
      "cell_type": "code",
      "metadata": {
        "id": "RWvp1RneSv-t",
        "colab_type": "code",
        "outputId": "6b880d7f-e8e1-41d7-d6e1-9ebd758b3b61",
        "colab": {
          "base_uri": "https://localhost:8080/",
          "height": 34
        }
      },
      "source": [
        "titanics[0,:]"
      ],
      "execution_count": 0,
      "outputs": [
        {
          "output_type": "execute_result",
          "data": {
            "text/plain": [
              "array(['0', '1', '1', '2', '1'], dtype='<U84')"
            ]
          },
          "metadata": {
            "tags": []
          },
          "execution_count": 24
        }
      ]
    },
    {
      "cell_type": "code",
      "metadata": {
        "id": "L8SOfzLKS9Cw",
        "colab_type": "code",
        "outputId": "ede1d62d-33c7-456a-c887-7c3737e05d88",
        "colab": {
          "base_uri": "https://localhost:8080/",
          "height": 34
        }
      },
      "source": [
        "titanics = titanics.astype('float')\n",
        "titanics.dtype"
      ],
      "execution_count": 0,
      "outputs": [
        {
          "output_type": "execute_result",
          "data": {
            "text/plain": [
              "dtype('float64')"
            ]
          },
          "metadata": {
            "tags": []
          },
          "execution_count": 25
        }
      ]
    },
    {
      "cell_type": "code",
      "metadata": {
        "id": "zXP3DNVlX5BB",
        "colab_type": "code",
        "outputId": "73e707f7-49b6-4657-8d61-35d48f5d2cd7",
        "colab": {
          "base_uri": "https://localhost:8080/",
          "height": 34
        }
      },
      "source": [
        "y = titanics[:,-1]\n",
        "x = np.delete(titanics,-1,1)\n",
        "x.shape"
      ],
      "execution_count": 0,
      "outputs": [
        {
          "output_type": "execute_result",
          "data": {
            "text/plain": [
              "(1308, 4)"
            ]
          },
          "metadata": {
            "tags": []
          },
          "execution_count": 26
        }
      ]
    },
    {
      "cell_type": "code",
      "metadata": {
        "id": "-rsL6cfTYPoH",
        "colab_type": "code",
        "outputId": "702b50c5-d2ef-4c61-83c3-68b552b518af",
        "colab": {
          "base_uri": "https://localhost:8080/",
          "height": 141
        }
      },
      "source": [
        "x_norm = (x-np.min(x,0)) / (np.max(x,0) - np.min(x,0))\n",
        "x_norm"
      ],
      "execution_count": 0,
      "outputs": [
        {
          "output_type": "execute_result",
          "data": {
            "text/plain": [
              "array([[0.        , 1.        , 0.125     , 0.22222222],\n",
              "       [0.        , 0.        , 0.125     , 0.22222222],\n",
              "       [0.        , 1.        , 0.125     , 0.22222222],\n",
              "       ...,\n",
              "       [1.        , 1.        , 0.        , 0.        ],\n",
              "       [1.        , 1.        , 0.        , 0.        ],\n",
              "       [1.        , 1.        , 0.        , 0.        ]])"
            ]
          },
          "metadata": {
            "tags": []
          },
          "execution_count": 27
        }
      ]
    },
    {
      "cell_type": "markdown",
      "metadata": {
        "id": "XM2afKtol3zT",
        "colab_type": "text"
      },
      "source": [
        "#Ex 8"
      ]
    },
    {
      "cell_type": "code",
      "metadata": {
        "id": "qM09kXGpqmlO",
        "colab_type": "code",
        "outputId": "62804761-1eac-4eb3-9393-d2dc8d3c115a",
        "colab": {
          "base_uri": "https://localhost:8080/",
          "height": 34
        }
      },
      "source": [
        "import numpy as np\n",
        "train_index = np.random.rand(1310) > 0.3\n",
        "test_index = train_index == False\n",
        "sum(test_index)"
      ],
      "execution_count": 0,
      "outputs": [
        {
          "output_type": "execute_result",
          "data": {
            "text/plain": [
              "390"
            ]
          },
          "metadata": {
            "tags": []
          },
          "execution_count": 47
        }
      ]
    },
    {
      "cell_type": "code",
      "metadata": {
        "id": "1uerDFUEneWe",
        "colab_type": "code",
        "colab": {}
      },
      "source": [
        "Y = titanics[:,-1]\n",
        "X = titanics[0:5,:]\n"
      ],
      "execution_count": 0,
      "outputs": []
    },
    {
      "cell_type": "code",
      "metadata": {
        "id": "WmR-2wI3sLTJ",
        "colab_type": "code",
        "outputId": "ecae49f6-d302-44be-f9b4-964bffb6b25a",
        "colab": {
          "base_uri": "https://localhost:8080/",
          "height": 167
        }
      },
      "source": [
        "X_train = X[train_index,:]\n"
      ],
      "execution_count": 0,
      "outputs": [
        {
          "output_type": "error",
          "ename": "IndexError",
          "evalue": "ignored",
          "traceback": [
            "\u001b[0;31m---------------------------------------------------------------------------\u001b[0m",
            "\u001b[0;31mIndexError\u001b[0m                                Traceback (most recent call last)",
            "\u001b[0;32m<ipython-input-48-85696fc06df6>\u001b[0m in \u001b[0;36m<module>\u001b[0;34m()\u001b[0m\n\u001b[0;32m----> 1\u001b[0;31m \u001b[0mX_train\u001b[0m \u001b[0;34m=\u001b[0m \u001b[0mX\u001b[0m\u001b[0;34m[\u001b[0m\u001b[0mtrain_index\u001b[0m\u001b[0;34m,\u001b[0m\u001b[0;34m:\u001b[0m\u001b[0;34m]\u001b[0m\u001b[0;34m\u001b[0m\u001b[0;34m\u001b[0m\u001b[0m\n\u001b[0m",
            "\u001b[0;31mIndexError\u001b[0m: boolean index did not match indexed array along dimension 0; dimension is 5 but corresponding boolean dimension is 1310"
          ]
        }
      ]
    },
    {
      "cell_type": "markdown",
      "metadata": {
        "id": "FtagErJZuhKk",
        "colab_type": "text"
      },
      "source": [
        "#read data frame object"
      ]
    },
    {
      "cell_type": "code",
      "metadata": {
        "id": "rWEEOmf-uy7F",
        "colab_type": "code",
        "colab": {}
      },
      "source": [
        "import pandas as pd"
      ],
      "execution_count": 0,
      "outputs": []
    },
    {
      "cell_type": "code",
      "metadata": {
        "id": "lt2SaP3Eu39p",
        "colab_type": "code",
        "outputId": "8d91dd65-77c7-4461-d0e3-e724d5376bc8",
        "colab": {
          "base_uri": "https://localhost:8080/",
          "height": 406
        }
      },
      "source": [
        "df = pd.read_csv('https://raw.githubusercontent.com/earthzxc/DW/master/5555.csv',delimiter=\";\")\n",
        "df"
      ],
      "execution_count": 0,
      "outputs": [
        {
          "output_type": "execute_result",
          "data": {
            "text/html": [
              "<div>\n",
              "<style scoped>\n",
              "    .dataframe tbody tr th:only-of-type {\n",
              "        vertical-align: middle;\n",
              "    }\n",
              "\n",
              "    .dataframe tbody tr th {\n",
              "        vertical-align: top;\n",
              "    }\n",
              "\n",
              "    .dataframe thead th {\n",
              "        text-align: right;\n",
              "    }\n",
              "</style>\n",
              "<table border=\"1\" class=\"dataframe\">\n",
              "  <thead>\n",
              "    <tr style=\"text-align: right;\">\n",
              "      <th></th>\n",
              "      <th>Passenger Class</th>\n",
              "      <th>Name</th>\n",
              "      <th>Sex</th>\n",
              "      <th>Age</th>\n",
              "      <th>No of Siblings or Spouses on Board</th>\n",
              "      <th>No of Parents or Children on Board</th>\n",
              "      <th>Ticket Number</th>\n",
              "      <th>Passenger Fare</th>\n",
              "      <th>Cabin</th>\n",
              "      <th>Port of Embarkation</th>\n",
              "      <th>Life Boat</th>\n",
              "      <th>Survived</th>\n",
              "    </tr>\n",
              "  </thead>\n",
              "  <tbody>\n",
              "    <tr>\n",
              "      <th>0</th>\n",
              "      <td>First</td>\n",
              "      <td>Allen, Miss. Elisabeth Walton</td>\n",
              "      <td>Female</td>\n",
              "      <td>29.0000</td>\n",
              "      <td>0</td>\n",
              "      <td>0</td>\n",
              "      <td>24160</td>\n",
              "      <td>211.3375</td>\n",
              "      <td>B5</td>\n",
              "      <td>Southampton</td>\n",
              "      <td>2</td>\n",
              "      <td>Yes</td>\n",
              "    </tr>\n",
              "    <tr>\n",
              "      <th>1</th>\n",
              "      <td>First</td>\n",
              "      <td>Allison, Master. Hudson Trevor</td>\n",
              "      <td>Male</td>\n",
              "      <td>0.9167</td>\n",
              "      <td>1</td>\n",
              "      <td>2</td>\n",
              "      <td>113781</td>\n",
              "      <td>151.5500</td>\n",
              "      <td>C22 C26</td>\n",
              "      <td>Southampton</td>\n",
              "      <td>11</td>\n",
              "      <td>Yes</td>\n",
              "    </tr>\n",
              "    <tr>\n",
              "      <th>2</th>\n",
              "      <td>First</td>\n",
              "      <td>Allison, Miss. Helen Loraine</td>\n",
              "      <td>Female</td>\n",
              "      <td>2.0000</td>\n",
              "      <td>1</td>\n",
              "      <td>2</td>\n",
              "      <td>113781</td>\n",
              "      <td>151.5500</td>\n",
              "      <td>C22 C26</td>\n",
              "      <td>Southampton</td>\n",
              "      <td>NaN</td>\n",
              "      <td>No</td>\n",
              "    </tr>\n",
              "    <tr>\n",
              "      <th>3</th>\n",
              "      <td>First</td>\n",
              "      <td>Allison, Mr. Hudson Joshua Creighton</td>\n",
              "      <td>Male</td>\n",
              "      <td>30.0000</td>\n",
              "      <td>1</td>\n",
              "      <td>2</td>\n",
              "      <td>113781</td>\n",
              "      <td>151.5500</td>\n",
              "      <td>C22 C26</td>\n",
              "      <td>Southampton</td>\n",
              "      <td>NaN</td>\n",
              "      <td>No</td>\n",
              "    </tr>\n",
              "    <tr>\n",
              "      <th>4</th>\n",
              "      <td>First</td>\n",
              "      <td>Allison, Mrs. Hudson J C (Bessie Waldo Daniels)</td>\n",
              "      <td>Female</td>\n",
              "      <td>25.0000</td>\n",
              "      <td>1</td>\n",
              "      <td>2</td>\n",
              "      <td>113781</td>\n",
              "      <td>151.5500</td>\n",
              "      <td>C22 C26</td>\n",
              "      <td>Southampton</td>\n",
              "      <td>NaN</td>\n",
              "      <td>No</td>\n",
              "    </tr>\n",
              "    <tr>\n",
              "      <th>...</th>\n",
              "      <td>...</td>\n",
              "      <td>...</td>\n",
              "      <td>...</td>\n",
              "      <td>...</td>\n",
              "      <td>...</td>\n",
              "      <td>...</td>\n",
              "      <td>...</td>\n",
              "      <td>...</td>\n",
              "      <td>...</td>\n",
              "      <td>...</td>\n",
              "      <td>...</td>\n",
              "      <td>...</td>\n",
              "    </tr>\n",
              "    <tr>\n",
              "      <th>1304</th>\n",
              "      <td>Third</td>\n",
              "      <td>Zabour, Miss. Hileni</td>\n",
              "      <td>Female</td>\n",
              "      <td>14.5000</td>\n",
              "      <td>1</td>\n",
              "      <td>0</td>\n",
              "      <td>2665</td>\n",
              "      <td>14.4542</td>\n",
              "      <td>NaN</td>\n",
              "      <td>Cherbourg</td>\n",
              "      <td>NaN</td>\n",
              "      <td>No</td>\n",
              "    </tr>\n",
              "    <tr>\n",
              "      <th>1305</th>\n",
              "      <td>Third</td>\n",
              "      <td>Zabour, Miss. Thamine</td>\n",
              "      <td>Female</td>\n",
              "      <td>NaN</td>\n",
              "      <td>1</td>\n",
              "      <td>0</td>\n",
              "      <td>2665</td>\n",
              "      <td>14.4542</td>\n",
              "      <td>NaN</td>\n",
              "      <td>Cherbourg</td>\n",
              "      <td>NaN</td>\n",
              "      <td>No</td>\n",
              "    </tr>\n",
              "    <tr>\n",
              "      <th>1306</th>\n",
              "      <td>Third</td>\n",
              "      <td>Zakarian, Mr. Mapriededer</td>\n",
              "      <td>Male</td>\n",
              "      <td>26.5000</td>\n",
              "      <td>0</td>\n",
              "      <td>0</td>\n",
              "      <td>2656</td>\n",
              "      <td>7.2250</td>\n",
              "      <td>NaN</td>\n",
              "      <td>Cherbourg</td>\n",
              "      <td>NaN</td>\n",
              "      <td>No</td>\n",
              "    </tr>\n",
              "    <tr>\n",
              "      <th>1307</th>\n",
              "      <td>Third</td>\n",
              "      <td>Zakarian, Mr. Ortin</td>\n",
              "      <td>Male</td>\n",
              "      <td>27.0000</td>\n",
              "      <td>0</td>\n",
              "      <td>0</td>\n",
              "      <td>2670</td>\n",
              "      <td>7.2250</td>\n",
              "      <td>NaN</td>\n",
              "      <td>Cherbourg</td>\n",
              "      <td>NaN</td>\n",
              "      <td>No</td>\n",
              "    </tr>\n",
              "    <tr>\n",
              "      <th>1308</th>\n",
              "      <td>Third</td>\n",
              "      <td>Zimmerman, Mr. Leo</td>\n",
              "      <td>Male</td>\n",
              "      <td>29.0000</td>\n",
              "      <td>0</td>\n",
              "      <td>0</td>\n",
              "      <td>315082</td>\n",
              "      <td>7.8750</td>\n",
              "      <td>NaN</td>\n",
              "      <td>Southampton</td>\n",
              "      <td>NaN</td>\n",
              "      <td>No</td>\n",
              "    </tr>\n",
              "  </tbody>\n",
              "</table>\n",
              "<p>1309 rows × 12 columns</p>\n",
              "</div>"
            ],
            "text/plain": [
              "     Passenger Class  ... Survived\n",
              "0              First  ...      Yes\n",
              "1              First  ...      Yes\n",
              "2              First  ...       No\n",
              "3              First  ...       No\n",
              "4              First  ...       No\n",
              "...              ...  ...      ...\n",
              "1304           Third  ...       No\n",
              "1305           Third  ...       No\n",
              "1306           Third  ...       No\n",
              "1307           Third  ...       No\n",
              "1308           Third  ...       No\n",
              "\n",
              "[1309 rows x 12 columns]"
            ]
          },
          "metadata": {
            "tags": []
          },
          "execution_count": 203
        }
      ]
    },
    {
      "cell_type": "code",
      "metadata": {
        "id": "821JjyGPvBKZ",
        "colab_type": "code",
        "outputId": "c474fb3a-5299-4d82-fbda-eea4f03de9af",
        "colab": {
          "base_uri": "https://localhost:8080/",
          "height": 105
        }
      },
      "source": [
        "df.columns"
      ],
      "execution_count": 0,
      "outputs": [
        {
          "output_type": "execute_result",
          "data": {
            "text/plain": [
              "Index(['Passenger Class', 'Name', 'Sex', 'Age',\n",
              "       'No of Siblings or Spouses on Board',\n",
              "       'No of Parents or Children on Board', 'Ticket Number', 'Passenger Fare',\n",
              "       'Cabin', 'Port of Embarkation', 'Life Boat', 'Survived'],\n",
              "      dtype='object')"
            ]
          },
          "metadata": {
            "tags": []
          },
          "execution_count": 204
        }
      ]
    },
    {
      "cell_type": "code",
      "metadata": {
        "id": "N_PfpZ6lwd31",
        "colab_type": "code",
        "outputId": "aeeb17ca-af07-4277-e9dc-4bbe6efdfc25",
        "colab": {
          "base_uri": "https://localhost:8080/",
          "height": 230
        }
      },
      "source": [
        "df['Passenger Class']"
      ],
      "execution_count": 0,
      "outputs": [
        {
          "output_type": "execute_result",
          "data": {
            "text/plain": [
              "0       First\n",
              "1       First\n",
              "2       First\n",
              "3       First\n",
              "4       First\n",
              "        ...  \n",
              "1304    Third\n",
              "1305    Third\n",
              "1306    Third\n",
              "1307    Third\n",
              "1308    Third\n",
              "Name: Passenger Class, Length: 1309, dtype: object"
            ]
          },
          "metadata": {
            "tags": []
          },
          "execution_count": 205
        }
      ]
    },
    {
      "cell_type": "code",
      "metadata": {
        "id": "571jEk8BwhYH",
        "colab_type": "code",
        "outputId": "2b6d3546-f9cd-448c-a3b5-fd2759cd4c01",
        "colab": {
          "base_uri": "https://localhost:8080/",
          "height": 123
        }
      },
      "source": [
        "df.iloc[2,0:5]"
      ],
      "execution_count": 0,
      "outputs": [
        {
          "output_type": "execute_result",
          "data": {
            "text/plain": [
              "Passenger Class                                              First\n",
              "Name                                  Allison, Miss. Helen Loraine\n",
              "Sex                                                         Female\n",
              "Age                                                              2\n",
              "No of Siblings or Spouses on Board                               1\n",
              "Name: 2, dtype: object"
            ]
          },
          "metadata": {
            "tags": []
          },
          "execution_count": 206
        }
      ]
    },
    {
      "cell_type": "code",
      "metadata": {
        "id": "75qv77R8xA-3",
        "colab_type": "code",
        "outputId": "f715a9ab-a0b6-4e12-eb47-a4f7314fb0d4",
        "colab": {
          "base_uri": "https://localhost:8080/",
          "height": 77
        }
      },
      "source": [
        "df[df['Age']==df['Age'].min()]"
      ],
      "execution_count": 0,
      "outputs": [
        {
          "output_type": "execute_result",
          "data": {
            "text/html": [
              "<div>\n",
              "<style scoped>\n",
              "    .dataframe tbody tr th:only-of-type {\n",
              "        vertical-align: middle;\n",
              "    }\n",
              "\n",
              "    .dataframe tbody tr th {\n",
              "        vertical-align: top;\n",
              "    }\n",
              "\n",
              "    .dataframe thead th {\n",
              "        text-align: right;\n",
              "    }\n",
              "</style>\n",
              "<table border=\"1\" class=\"dataframe\">\n",
              "  <thead>\n",
              "    <tr style=\"text-align: right;\">\n",
              "      <th></th>\n",
              "      <th>Passenger Class</th>\n",
              "      <th>Name</th>\n",
              "      <th>Sex</th>\n",
              "      <th>Age</th>\n",
              "      <th>No of Siblings or Spouses on Board</th>\n",
              "      <th>No of Parents or Children on Board</th>\n",
              "      <th>Ticket Number</th>\n",
              "      <th>Passenger Fare</th>\n",
              "      <th>Cabin</th>\n",
              "      <th>Port of Embarkation</th>\n",
              "      <th>Life Boat</th>\n",
              "      <th>Survived</th>\n",
              "    </tr>\n",
              "  </thead>\n",
              "  <tbody>\n",
              "    <tr>\n",
              "      <th>763</th>\n",
              "      <td>Third</td>\n",
              "      <td>Dean, Miss. Elizabeth Gladys 'Millvina'</td>\n",
              "      <td>Female</td>\n",
              "      <td>0.1667</td>\n",
              "      <td>1</td>\n",
              "      <td>2</td>\n",
              "      <td>C.A. 2315</td>\n",
              "      <td>20.575</td>\n",
              "      <td>NaN</td>\n",
              "      <td>Southampton</td>\n",
              "      <td>10</td>\n",
              "      <td>Yes</td>\n",
              "    </tr>\n",
              "  </tbody>\n",
              "</table>\n",
              "</div>"
            ],
            "text/plain": [
              "    Passenger Class                                     Name  ... Life Boat  Survived\n",
              "763           Third  Dean, Miss. Elizabeth Gladys 'Millvina'  ...        10       Yes\n",
              "\n",
              "[1 rows x 12 columns]"
            ]
          },
          "metadata": {
            "tags": []
          },
          "execution_count": 207
        }
      ]
    },
    {
      "cell_type": "code",
      "metadata": {
        "id": "brvn4KEIyVw-",
        "colab_type": "code",
        "outputId": "70be45e6-1e01-41cf-9cf7-53a80beff964",
        "colab": {
          "base_uri": "https://localhost:8080/",
          "height": 52
        }
      },
      "source": [
        "df['Name'][df['Age']==df['Age'].max()]"
      ],
      "execution_count": 0,
      "outputs": [
        {
          "output_type": "execute_result",
          "data": {
            "text/plain": [
              "14    Barkworth, Mr. Algernon Henry Wilson\n",
              "Name: Name, dtype: object"
            ]
          },
          "metadata": {
            "tags": []
          },
          "execution_count": 208
        }
      ]
    },
    {
      "cell_type": "code",
      "metadata": {
        "id": "XOVxKK5Cyg4l",
        "colab_type": "code",
        "outputId": "476ce546-f5c9-4d7f-eba3-5ac0dae22434",
        "colab": {
          "base_uri": "https://localhost:8080/",
          "height": 406
        }
      },
      "source": [
        "df.isnull()"
      ],
      "execution_count": 0,
      "outputs": [
        {
          "output_type": "execute_result",
          "data": {
            "text/html": [
              "<div>\n",
              "<style scoped>\n",
              "    .dataframe tbody tr th:only-of-type {\n",
              "        vertical-align: middle;\n",
              "    }\n",
              "\n",
              "    .dataframe tbody tr th {\n",
              "        vertical-align: top;\n",
              "    }\n",
              "\n",
              "    .dataframe thead th {\n",
              "        text-align: right;\n",
              "    }\n",
              "</style>\n",
              "<table border=\"1\" class=\"dataframe\">\n",
              "  <thead>\n",
              "    <tr style=\"text-align: right;\">\n",
              "      <th></th>\n",
              "      <th>Passenger Class</th>\n",
              "      <th>Name</th>\n",
              "      <th>Sex</th>\n",
              "      <th>Age</th>\n",
              "      <th>No of Siblings or Spouses on Board</th>\n",
              "      <th>No of Parents or Children on Board</th>\n",
              "      <th>Ticket Number</th>\n",
              "      <th>Passenger Fare</th>\n",
              "      <th>Cabin</th>\n",
              "      <th>Port of Embarkation</th>\n",
              "      <th>Life Boat</th>\n",
              "      <th>Survived</th>\n",
              "    </tr>\n",
              "  </thead>\n",
              "  <tbody>\n",
              "    <tr>\n",
              "      <th>0</th>\n",
              "      <td>False</td>\n",
              "      <td>False</td>\n",
              "      <td>False</td>\n",
              "      <td>False</td>\n",
              "      <td>False</td>\n",
              "      <td>False</td>\n",
              "      <td>False</td>\n",
              "      <td>False</td>\n",
              "      <td>False</td>\n",
              "      <td>False</td>\n",
              "      <td>False</td>\n",
              "      <td>False</td>\n",
              "    </tr>\n",
              "    <tr>\n",
              "      <th>1</th>\n",
              "      <td>False</td>\n",
              "      <td>False</td>\n",
              "      <td>False</td>\n",
              "      <td>False</td>\n",
              "      <td>False</td>\n",
              "      <td>False</td>\n",
              "      <td>False</td>\n",
              "      <td>False</td>\n",
              "      <td>False</td>\n",
              "      <td>False</td>\n",
              "      <td>False</td>\n",
              "      <td>False</td>\n",
              "    </tr>\n",
              "    <tr>\n",
              "      <th>2</th>\n",
              "      <td>False</td>\n",
              "      <td>False</td>\n",
              "      <td>False</td>\n",
              "      <td>False</td>\n",
              "      <td>False</td>\n",
              "      <td>False</td>\n",
              "      <td>False</td>\n",
              "      <td>False</td>\n",
              "      <td>False</td>\n",
              "      <td>False</td>\n",
              "      <td>True</td>\n",
              "      <td>False</td>\n",
              "    </tr>\n",
              "    <tr>\n",
              "      <th>3</th>\n",
              "      <td>False</td>\n",
              "      <td>False</td>\n",
              "      <td>False</td>\n",
              "      <td>False</td>\n",
              "      <td>False</td>\n",
              "      <td>False</td>\n",
              "      <td>False</td>\n",
              "      <td>False</td>\n",
              "      <td>False</td>\n",
              "      <td>False</td>\n",
              "      <td>True</td>\n",
              "      <td>False</td>\n",
              "    </tr>\n",
              "    <tr>\n",
              "      <th>4</th>\n",
              "      <td>False</td>\n",
              "      <td>False</td>\n",
              "      <td>False</td>\n",
              "      <td>False</td>\n",
              "      <td>False</td>\n",
              "      <td>False</td>\n",
              "      <td>False</td>\n",
              "      <td>False</td>\n",
              "      <td>False</td>\n",
              "      <td>False</td>\n",
              "      <td>True</td>\n",
              "      <td>False</td>\n",
              "    </tr>\n",
              "    <tr>\n",
              "      <th>...</th>\n",
              "      <td>...</td>\n",
              "      <td>...</td>\n",
              "      <td>...</td>\n",
              "      <td>...</td>\n",
              "      <td>...</td>\n",
              "      <td>...</td>\n",
              "      <td>...</td>\n",
              "      <td>...</td>\n",
              "      <td>...</td>\n",
              "      <td>...</td>\n",
              "      <td>...</td>\n",
              "      <td>...</td>\n",
              "    </tr>\n",
              "    <tr>\n",
              "      <th>1304</th>\n",
              "      <td>False</td>\n",
              "      <td>False</td>\n",
              "      <td>False</td>\n",
              "      <td>False</td>\n",
              "      <td>False</td>\n",
              "      <td>False</td>\n",
              "      <td>False</td>\n",
              "      <td>False</td>\n",
              "      <td>True</td>\n",
              "      <td>False</td>\n",
              "      <td>True</td>\n",
              "      <td>False</td>\n",
              "    </tr>\n",
              "    <tr>\n",
              "      <th>1305</th>\n",
              "      <td>False</td>\n",
              "      <td>False</td>\n",
              "      <td>False</td>\n",
              "      <td>True</td>\n",
              "      <td>False</td>\n",
              "      <td>False</td>\n",
              "      <td>False</td>\n",
              "      <td>False</td>\n",
              "      <td>True</td>\n",
              "      <td>False</td>\n",
              "      <td>True</td>\n",
              "      <td>False</td>\n",
              "    </tr>\n",
              "    <tr>\n",
              "      <th>1306</th>\n",
              "      <td>False</td>\n",
              "      <td>False</td>\n",
              "      <td>False</td>\n",
              "      <td>False</td>\n",
              "      <td>False</td>\n",
              "      <td>False</td>\n",
              "      <td>False</td>\n",
              "      <td>False</td>\n",
              "      <td>True</td>\n",
              "      <td>False</td>\n",
              "      <td>True</td>\n",
              "      <td>False</td>\n",
              "    </tr>\n",
              "    <tr>\n",
              "      <th>1307</th>\n",
              "      <td>False</td>\n",
              "      <td>False</td>\n",
              "      <td>False</td>\n",
              "      <td>False</td>\n",
              "      <td>False</td>\n",
              "      <td>False</td>\n",
              "      <td>False</td>\n",
              "      <td>False</td>\n",
              "      <td>True</td>\n",
              "      <td>False</td>\n",
              "      <td>True</td>\n",
              "      <td>False</td>\n",
              "    </tr>\n",
              "    <tr>\n",
              "      <th>1308</th>\n",
              "      <td>False</td>\n",
              "      <td>False</td>\n",
              "      <td>False</td>\n",
              "      <td>False</td>\n",
              "      <td>False</td>\n",
              "      <td>False</td>\n",
              "      <td>False</td>\n",
              "      <td>False</td>\n",
              "      <td>True</td>\n",
              "      <td>False</td>\n",
              "      <td>True</td>\n",
              "      <td>False</td>\n",
              "    </tr>\n",
              "  </tbody>\n",
              "</table>\n",
              "<p>1309 rows × 12 columns</p>\n",
              "</div>"
            ],
            "text/plain": [
              "      Passenger Class   Name    Sex  ...  Port of Embarkation  Life Boat  Survived\n",
              "0               False  False  False  ...                False      False     False\n",
              "1               False  False  False  ...                False      False     False\n",
              "2               False  False  False  ...                False       True     False\n",
              "3               False  False  False  ...                False       True     False\n",
              "4               False  False  False  ...                False       True     False\n",
              "...               ...    ...    ...  ...                  ...        ...       ...\n",
              "1304            False  False  False  ...                False       True     False\n",
              "1305            False  False  False  ...                False       True     False\n",
              "1306            False  False  False  ...                False       True     False\n",
              "1307            False  False  False  ...                False       True     False\n",
              "1308            False  False  False  ...                False       True     False\n",
              "\n",
              "[1309 rows x 12 columns]"
            ]
          },
          "metadata": {
            "tags": []
          },
          "execution_count": 209
        }
      ]
    },
    {
      "cell_type": "code",
      "metadata": {
        "id": "OY7xix0Pyv2d",
        "colab_type": "code",
        "outputId": "b9a83632-5b53-4117-c365-ba24ef3762e2",
        "colab": {
          "base_uri": "https://localhost:8080/",
          "height": 247
        }
      },
      "source": [
        "df.isnull().any()"
      ],
      "execution_count": 0,
      "outputs": [
        {
          "output_type": "execute_result",
          "data": {
            "text/plain": [
              "Passenger Class                       False\n",
              "Name                                  False\n",
              "Sex                                   False\n",
              "Age                                    True\n",
              "No of Siblings or Spouses on Board    False\n",
              "No of Parents or Children on Board    False\n",
              "Ticket Number                         False\n",
              "Passenger Fare                         True\n",
              "Cabin                                  True\n",
              "Port of Embarkation                    True\n",
              "Life Boat                              True\n",
              "Survived                              False\n",
              "dtype: bool"
            ]
          },
          "metadata": {
            "tags": []
          },
          "execution_count": 210
        }
      ]
    },
    {
      "cell_type": "code",
      "metadata": {
        "id": "PFXLsHoFy6D-",
        "colab_type": "code",
        "outputId": "8fcdacfe-1bf0-4717-92db-5ee6843cfae6",
        "colab": {
          "base_uri": "https://localhost:8080/",
          "height": 34
        }
      },
      "source": [
        "sum(df['Age'].isnull())"
      ],
      "execution_count": 0,
      "outputs": [
        {
          "output_type": "execute_result",
          "data": {
            "text/plain": [
              "263"
            ]
          },
          "metadata": {
            "tags": []
          },
          "execution_count": 211
        }
      ]
    },
    {
      "cell_type": "code",
      "metadata": {
        "id": "1hVm-vtwzDFU",
        "colab_type": "code",
        "outputId": "02d61ba3-bcc2-48f6-d8b9-58da796a5d98",
        "colab": {
          "base_uri": "https://localhost:8080/",
          "height": 247
        }
      },
      "source": [
        "df.isnull().sum(axis=0)"
      ],
      "execution_count": 0,
      "outputs": [
        {
          "output_type": "execute_result",
          "data": {
            "text/plain": [
              "Passenger Class                          0\n",
              "Name                                     0\n",
              "Sex                                      0\n",
              "Age                                    263\n",
              "No of Siblings or Spouses on Board       0\n",
              "No of Parents or Children on Board       0\n",
              "Ticket Number                            0\n",
              "Passenger Fare                           1\n",
              "Cabin                                 1014\n",
              "Port of Embarkation                      2\n",
              "Life Boat                              823\n",
              "Survived                                 0\n",
              "dtype: int64"
            ]
          },
          "metadata": {
            "tags": []
          },
          "execution_count": 212
        }
      ]
    },
    {
      "cell_type": "code",
      "metadata": {
        "id": "fr8KdN8yz6yC",
        "colab_type": "code",
        "outputId": "e95ba820-a42c-4cbe-bd82-d3e5b31c0445",
        "colab": {
          "base_uri": "https://localhost:8080/",
          "height": 141
        }
      },
      "source": [
        "df_clean_column = df.drop(['Age','Cabin','Life Boat','Name','Ticket Number','Port of Embarkation'],axis=1)\n",
        "df_clean_column.isnull().sum(axis=0)"
      ],
      "execution_count": 0,
      "outputs": [
        {
          "output_type": "execute_result",
          "data": {
            "text/plain": [
              "Passenger Class                       0\n",
              "Sex                                   0\n",
              "No of Siblings or Spouses on Board    0\n",
              "No of Parents or Children on Board    0\n",
              "Passenger Fare                        1\n",
              "Survived                              0\n",
              "dtype: int64"
            ]
          },
          "metadata": {
            "tags": []
          },
          "execution_count": 213
        }
      ]
    },
    {
      "cell_type": "code",
      "metadata": {
        "id": "OIWw1UtS1anL",
        "colab_type": "code",
        "outputId": "bded9bf9-2183-4a67-cd9f-1e8d4b9f1c0e",
        "colab": {
          "base_uri": "https://localhost:8080/",
          "height": 141
        }
      },
      "source": [
        "df_clean_row = df_clean_column.dropna(axis=0)\n",
        "df_clean_row.isnull().sum(axis=0)"
      ],
      "execution_count": 0,
      "outputs": [
        {
          "output_type": "execute_result",
          "data": {
            "text/plain": [
              "Passenger Class                       0\n",
              "Sex                                   0\n",
              "No of Siblings or Spouses on Board    0\n",
              "No of Parents or Children on Board    0\n",
              "Passenger Fare                        0\n",
              "Survived                              0\n",
              "dtype: int64"
            ]
          },
          "metadata": {
            "tags": []
          },
          "execution_count": 214
        }
      ]
    },
    {
      "cell_type": "code",
      "metadata": {
        "id": "oPmr9lsh2nzp",
        "colab_type": "code",
        "outputId": "544f809a-0d51-4654-e041-bb431d92ee60",
        "colab": {
          "base_uri": "https://localhost:8080/",
          "height": 411
        }
      },
      "source": [
        "df_clean_factorize = df_clean_row\n",
        "data_passenger, data_label = pd.factorize(df_clean_row['Passenger Class'])\n",
        "data_sex, data_label = pd.factorize(df_clean_row['Sex'])\n",
        "\n",
        "df_clean_factorize['Passenger Class'] = data_passenger\n",
        "df_clean_factorize['Sex'] = data_sex\n",
        "\n",
        "df_clean_factorize.head()"
      ],
      "execution_count": 0,
      "outputs": [
        {
          "output_type": "stream",
          "text": [
            "/usr/local/lib/python3.6/dist-packages/ipykernel_launcher.py:5: SettingWithCopyWarning: \n",
            "A value is trying to be set on a copy of a slice from a DataFrame.\n",
            "Try using .loc[row_indexer,col_indexer] = value instead\n",
            "\n",
            "See the caveats in the documentation: http://pandas.pydata.org/pandas-docs/stable/user_guide/indexing.html#returning-a-view-versus-a-copy\n",
            "  \"\"\"\n",
            "/usr/local/lib/python3.6/dist-packages/ipykernel_launcher.py:6: SettingWithCopyWarning: \n",
            "A value is trying to be set on a copy of a slice from a DataFrame.\n",
            "Try using .loc[row_indexer,col_indexer] = value instead\n",
            "\n",
            "See the caveats in the documentation: http://pandas.pydata.org/pandas-docs/stable/user_guide/indexing.html#returning-a-view-versus-a-copy\n",
            "  \n"
          ],
          "name": "stderr"
        },
        {
          "output_type": "execute_result",
          "data": {
            "text/html": [
              "<div>\n",
              "<style scoped>\n",
              "    .dataframe tbody tr th:only-of-type {\n",
              "        vertical-align: middle;\n",
              "    }\n",
              "\n",
              "    .dataframe tbody tr th {\n",
              "        vertical-align: top;\n",
              "    }\n",
              "\n",
              "    .dataframe thead th {\n",
              "        text-align: right;\n",
              "    }\n",
              "</style>\n",
              "<table border=\"1\" class=\"dataframe\">\n",
              "  <thead>\n",
              "    <tr style=\"text-align: right;\">\n",
              "      <th></th>\n",
              "      <th>Passenger Class</th>\n",
              "      <th>Sex</th>\n",
              "      <th>No of Siblings or Spouses on Board</th>\n",
              "      <th>No of Parents or Children on Board</th>\n",
              "      <th>Passenger Fare</th>\n",
              "      <th>Survived</th>\n",
              "    </tr>\n",
              "  </thead>\n",
              "  <tbody>\n",
              "    <tr>\n",
              "      <th>0</th>\n",
              "      <td>0</td>\n",
              "      <td>0</td>\n",
              "      <td>0</td>\n",
              "      <td>0</td>\n",
              "      <td>211.3375</td>\n",
              "      <td>Yes</td>\n",
              "    </tr>\n",
              "    <tr>\n",
              "      <th>1</th>\n",
              "      <td>0</td>\n",
              "      <td>1</td>\n",
              "      <td>1</td>\n",
              "      <td>2</td>\n",
              "      <td>151.5500</td>\n",
              "      <td>Yes</td>\n",
              "    </tr>\n",
              "    <tr>\n",
              "      <th>2</th>\n",
              "      <td>0</td>\n",
              "      <td>0</td>\n",
              "      <td>1</td>\n",
              "      <td>2</td>\n",
              "      <td>151.5500</td>\n",
              "      <td>No</td>\n",
              "    </tr>\n",
              "    <tr>\n",
              "      <th>3</th>\n",
              "      <td>0</td>\n",
              "      <td>1</td>\n",
              "      <td>1</td>\n",
              "      <td>2</td>\n",
              "      <td>151.5500</td>\n",
              "      <td>No</td>\n",
              "    </tr>\n",
              "    <tr>\n",
              "      <th>4</th>\n",
              "      <td>0</td>\n",
              "      <td>0</td>\n",
              "      <td>1</td>\n",
              "      <td>2</td>\n",
              "      <td>151.5500</td>\n",
              "      <td>No</td>\n",
              "    </tr>\n",
              "  </tbody>\n",
              "</table>\n",
              "</div>"
            ],
            "text/plain": [
              "   Passenger Class  Sex  ...  Passenger Fare  Survived\n",
              "0                0    0  ...        211.3375       Yes\n",
              "1                0    1  ...        151.5500       Yes\n",
              "2                0    0  ...        151.5500        No\n",
              "3                0    1  ...        151.5500        No\n",
              "4                0    0  ...        151.5500        No\n",
              "\n",
              "[5 rows x 6 columns]"
            ]
          },
          "metadata": {
            "tags": []
          },
          "execution_count": 215
        }
      ]
    },
    {
      "cell_type": "code",
      "metadata": {
        "id": "NcZg2f8Q4ro3",
        "colab_type": "code",
        "outputId": "be9280bb-9c39-4c8f-a0f1-93235f2f7036",
        "colab": {
          "base_uri": "https://localhost:8080/",
          "height": 197
        }
      },
      "source": [
        "x =df_clean_factorize.drop(['Survived'],axis=1)\n",
        "y =df_clean_factorize['Survived']\n",
        "x.head()"
      ],
      "execution_count": 0,
      "outputs": [
        {
          "output_type": "execute_result",
          "data": {
            "text/html": [
              "<div>\n",
              "<style scoped>\n",
              "    .dataframe tbody tr th:only-of-type {\n",
              "        vertical-align: middle;\n",
              "    }\n",
              "\n",
              "    .dataframe tbody tr th {\n",
              "        vertical-align: top;\n",
              "    }\n",
              "\n",
              "    .dataframe thead th {\n",
              "        text-align: right;\n",
              "    }\n",
              "</style>\n",
              "<table border=\"1\" class=\"dataframe\">\n",
              "  <thead>\n",
              "    <tr style=\"text-align: right;\">\n",
              "      <th></th>\n",
              "      <th>Passenger Class</th>\n",
              "      <th>Sex</th>\n",
              "      <th>No of Siblings or Spouses on Board</th>\n",
              "      <th>No of Parents or Children on Board</th>\n",
              "      <th>Passenger Fare</th>\n",
              "    </tr>\n",
              "  </thead>\n",
              "  <tbody>\n",
              "    <tr>\n",
              "      <th>0</th>\n",
              "      <td>0</td>\n",
              "      <td>0</td>\n",
              "      <td>0</td>\n",
              "      <td>0</td>\n",
              "      <td>211.3375</td>\n",
              "    </tr>\n",
              "    <tr>\n",
              "      <th>1</th>\n",
              "      <td>0</td>\n",
              "      <td>1</td>\n",
              "      <td>1</td>\n",
              "      <td>2</td>\n",
              "      <td>151.5500</td>\n",
              "    </tr>\n",
              "    <tr>\n",
              "      <th>2</th>\n",
              "      <td>0</td>\n",
              "      <td>0</td>\n",
              "      <td>1</td>\n",
              "      <td>2</td>\n",
              "      <td>151.5500</td>\n",
              "    </tr>\n",
              "    <tr>\n",
              "      <th>3</th>\n",
              "      <td>0</td>\n",
              "      <td>1</td>\n",
              "      <td>1</td>\n",
              "      <td>2</td>\n",
              "      <td>151.5500</td>\n",
              "    </tr>\n",
              "    <tr>\n",
              "      <th>4</th>\n",
              "      <td>0</td>\n",
              "      <td>0</td>\n",
              "      <td>1</td>\n",
              "      <td>2</td>\n",
              "      <td>151.5500</td>\n",
              "    </tr>\n",
              "  </tbody>\n",
              "</table>\n",
              "</div>"
            ],
            "text/plain": [
              "   Passenger Class  Sex  ...  No of Parents or Children on Board  Passenger Fare\n",
              "0                0    0  ...                                   0        211.3375\n",
              "1                0    1  ...                                   2        151.5500\n",
              "2                0    0  ...                                   2        151.5500\n",
              "3                0    1  ...                                   2        151.5500\n",
              "4                0    0  ...                                   2        151.5500\n",
              "\n",
              "[5 rows x 5 columns]"
            ]
          },
          "metadata": {
            "tags": []
          },
          "execution_count": 216
        }
      ]
    },
    {
      "cell_type": "code",
      "metadata": {
        "id": "0MogcExJDJd6",
        "colab_type": "code",
        "outputId": "e50bc27b-e300-4f9e-c5e5-e9e13e079fbc",
        "colab": {
          "base_uri": "https://localhost:8080/",
          "height": 34
        }
      },
      "source": [
        "from sklearn.model_selection import train_test_split\n",
        "x_train, x_test, y_train, y_test = train_test_split(x, y, test_size=0.20, random_state=0)\n",
        "x_train.shape"
      ],
      "execution_count": 0,
      "outputs": [
        {
          "output_type": "execute_result",
          "data": {
            "text/plain": [
              "(1046, 5)"
            ]
          },
          "metadata": {
            "tags": []
          },
          "execution_count": 222
        }
      ]
    },
    {
      "cell_type": "code",
      "metadata": {
        "id": "KGlEuyWfD7xq",
        "colab_type": "code",
        "outputId": "d162c66e-3c16-4d1f-b58e-0840a070e869",
        "colab": {
          "base_uri": "https://localhost:8080/",
          "height": 141
        }
      },
      "source": [
        "from sklearn.preprocessing import MinMaxScaler\n",
        "scaler = MinMaxScaler(feature_range=(0,1))\n",
        "scaler.fit(x_train)\n",
        "\n",
        "x_train_norm = scaler.transform(x_train)\n",
        "x_test_norm = scaler.transform(x_test)\n",
        "x_test_norm"
      ],
      "execution_count": 0,
      "outputs": [
        {
          "output_type": "execute_result",
          "data": {
            "text/plain": [
              "array([[1.        , 0.        , 0.        , 0.        , 0.01533038],\n",
              "       [0.5       , 1.        , 0.        , 0.        , 0.05074862],\n",
              "       [0.5       , 1.        , 0.        , 0.        , 0.        ],\n",
              "       ...,\n",
              "       [1.        , 1.        , 0.        , 0.        , 0.01512699],\n",
              "       [0.5       , 0.        , 0.        , 0.        , 0.02049464],\n",
              "       [1.        , 1.        , 0.        , 0.        , 0.01700567]])"
            ]
          },
          "metadata": {
            "tags": []
          },
          "execution_count": 225
        }
      ]
    },
    {
      "cell_type": "code",
      "metadata": {
        "id": "AJLGzw6cFAQP",
        "colab_type": "code",
        "outputId": "080c7bbc-9998-41c5-dbd6-0a4e869c6c18",
        "colab": {
          "base_uri": "https://localhost:8080/",
          "height": 123
        }
      },
      "source": [
        "from sklearn.tree import DecisionTreeClassifier\n",
        "model = DecisionTreeClassifier(random_state=0)\n",
        "model.fit(x_train_norm, y_train)"
      ],
      "execution_count": 0,
      "outputs": [
        {
          "output_type": "execute_result",
          "data": {
            "text/plain": [
              "DecisionTreeClassifier(class_weight=None, criterion='gini', max_depth=None,\n",
              "                       max_features=None, max_leaf_nodes=None,\n",
              "                       min_impurity_decrease=0.0, min_impurity_split=None,\n",
              "                       min_samples_leaf=1, min_samples_split=2,\n",
              "                       min_weight_fraction_leaf=0.0, presort=False,\n",
              "                       random_state=0, splitter='best')"
            ]
          },
          "metadata": {
            "tags": []
          },
          "execution_count": 226
        }
      ]
    },
    {
      "cell_type": "code",
      "metadata": {
        "id": "fY0I03YYG8SQ",
        "colab_type": "code",
        "outputId": "dda46eed-941a-4935-c510-1cd243e06335",
        "colab": {
          "base_uri": "https://localhost:8080/",
          "height": 34
        }
      },
      "source": [
        "y_predict = model.predict(x_test_norm)\n",
        "sum(y_predict == y_test) /len (y_test)"
      ],
      "execution_count": 0,
      "outputs": [
        {
          "output_type": "execute_result",
          "data": {
            "text/plain": [
              "0.7938931297709924"
            ]
          },
          "metadata": {
            "tags": []
          },
          "execution_count": 227
        }
      ]
    },
    {
      "cell_type": "code",
      "metadata": {
        "id": "FpGkXzrmHVrQ",
        "colab_type": "code",
        "colab": {}
      },
      "source": [
        ""
      ],
      "execution_count": 0,
      "outputs": []
    }
  ]
}