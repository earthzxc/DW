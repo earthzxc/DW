{
  "nbformat": 4,
  "nbformat_minor": 0,
  "metadata": {
    "colab": {
      "name": "Copy of new.ipynb",
      "provenance": [],
      "include_colab_link": true
    },
    "kernelspec": {
      "name": "python3",
      "display_name": "Python 3"
    }
  },
  "cells": [
    {
      "cell_type": "markdown",
      "metadata": {
        "id": "view-in-github",
        "colab_type": "text"
      },
      "source": [
        "<a href=\"https://colab.research.google.com/github/earthzxc/DW/blob/master/new.ipynb\" target=\"_parent\"><img src=\"https://colab.research.google.com/assets/colab-badge.svg\" alt=\"Open In Colab\"/></a>"
      ]
    },
    {
      "cell_type": "code",
      "metadata": {
        "id": "mHfsI5uajEAS",
        "colab_type": "code",
        "colab": {}
      },
      "source": [
        "import numpy as np"
      ],
      "execution_count": 0,
      "outputs": []
    },
    {
      "cell_type": "code",
      "metadata": {
        "id": "wPDu-ROzkDGE",
        "colab_type": "code",
        "outputId": "6f0bb30c-3f53-46b9-ee4e-1647f2fdc395",
        "colab": {
          "base_uri": "https://localhost:8080/",
          "height": 34
        }
      },
      "source": [
        "l = [1,2,3,4,5]\n",
        "np_array = np.array(1)\n",
        "type(np_array)"
      ],
      "execution_count": 0,
      "outputs": [
        {
          "output_type": "execute_result",
          "data": {
            "text/plain": [
              "numpy.ndarray"
            ]
          },
          "metadata": {
            "tags": []
          },
          "execution_count": 7
        }
      ]
    },
    {
      "cell_type": "code",
      "metadata": {
        "id": "a1b0S5D3kU64",
        "colab_type": "code",
        "colab": {}
      },
      "source": [
        "np_matrix = np.array([[1,2],[3,4],[5,6]])"
      ],
      "execution_count": 0,
      "outputs": []
    },
    {
      "cell_type": "code",
      "metadata": {
        "id": "IpybWugNkjT8",
        "colab_type": "code",
        "outputId": "e87ad115-92bc-493e-d332-56c4516722d6",
        "colab": {
          "base_uri": "https://localhost:8080/",
          "height": 68
        }
      },
      "source": [
        "np_matrix"
      ],
      "execution_count": 0,
      "outputs": [
        {
          "output_type": "execute_result",
          "data": {
            "text/plain": [
              "array([[1, 2],\n",
              "       [3, 4],\n",
              "       [5, 6]])"
            ]
          },
          "metadata": {
            "tags": []
          },
          "execution_count": 10
        }
      ]
    },
    {
      "cell_type": "code",
      "metadata": {
        "id": "paNqOfJkjAIG",
        "colab_type": "code",
        "outputId": "a3334f83-e614-4172-8fa8-d461201ab2a5",
        "colab": {
          "base_uri": "https://localhost:8080/",
          "height": 51
        }
      },
      "source": [
        "np.linspace(0,2,7)"
      ],
      "execution_count": 0,
      "outputs": [
        {
          "output_type": "execute_result",
          "data": {
            "text/plain": [
              "array([0.        , 0.33333333, 0.66666667, 1.        , 1.33333333,\n",
              "       1.66666667, 2.        ])"
            ]
          },
          "metadata": {
            "tags": []
          },
          "execution_count": 13
        }
      ]
    },
    {
      "cell_type": "code",
      "metadata": {
        "id": "4Owc1ck2lLHg",
        "colab_type": "code",
        "colab": {}
      },
      "source": [
        ""
      ],
      "execution_count": 0,
      "outputs": []
    },
    {
      "cell_type": "markdown",
      "metadata": {
        "id": "3XXLSAAbou8F",
        "colab_type": "text"
      },
      "source": [
        "#ex3"
      ]
    },
    {
      "cell_type": "code",
      "metadata": {
        "id": "seGi0xSKo9t9",
        "colab_type": "code",
        "colab": {}
      },
      "source": [
        "import matplotlib.pyplot as plt"
      ],
      "execution_count": 0,
      "outputs": []
    },
    {
      "cell_type": "code",
      "metadata": {
        "id": "-3hSeehypBaX",
        "colab_type": "code",
        "colab": {}
      },
      "source": [
        "x = np.linspace(0,12,100)"
      ],
      "execution_count": 0,
      "outputs": []
    },
    {
      "cell_type": "code",
      "metadata": {
        "id": "HsiBpXzrrpk0",
        "colab_type": "code",
        "outputId": "2fe123be-3f6e-4799-833f-cda4bb4f3dbc",
        "colab": {
          "base_uri": "https://localhost:8080/",
          "height": 286
        }
      },
      "source": [
        "plt.plot(x,np.cos(x),label='cos(x)')"
      ],
      "execution_count": 0,
      "outputs": [
        {
          "output_type": "execute_result",
          "data": {
            "text/plain": [
              "[<matplotlib.lines.Line2D at 0x7fd69da58dd8>]"
            ]
          },
          "metadata": {
            "tags": []
          },
          "execution_count": 119
        },
        {
          "output_type": "display_data",
          "data": {
            "image/png": "[encoded data removed]",
            "text/plain": [
              "<Figure size 432x288 with 1 Axes>"
            ]
          },
          "metadata": {
            "tags": []
          }
        }
      ]
    },
    {
      "cell_type": "markdown",
      "metadata": {
        "id": "g_5WCXW2lOmE",
        "colab_type": "text"
      },
      "source": [
        "#ex4"
      ]
    },
    {
      "cell_type": "code",
      "metadata": {
        "id": "Hy09-LIqlQN7",
        "colab_type": "code",
        "colab": {}
      },
      "source": [
        "np_test= np.arange(25).reshape(5,5)"
      ],
      "execution_count": 0,
      "outputs": []
    },
    {
      "cell_type": "code",
      "metadata": {
        "id": "B6UOUywpnfi9",
        "colab_type": "code",
        "outputId": "f3e36eff-433e-4f8d-a9f3-37e8ba9d84ef",
        "colab": {
          "base_uri": "https://localhost:8080/",
          "height": 34
        }
      },
      "source": [
        "np_test2 =np_test%3 == 0\n",
        "np_test[np_test2]"
      ],
      "execution_count": 0,
      "outputs": [
        {
          "output_type": "execute_result",
          "data": {
            "text/plain": [
              "array([ 0,  3,  6,  9, 12, 15, 18, 21, 24])"
            ]
          },
          "metadata": {
            "tags": []
          },
          "execution_count": 140
        }
      ]
    },
    {
      "cell_type": "markdown",
      "metadata": {
        "id": "zVcbxNHtleWE",
        "colab_type": "text"
      },
      "source": [
        "#ex5"
      ]
    },
    {
      "cell_type": "code",
      "metadata": {
        "id": "l0OYCsYclf7T",
        "colab_type": "code",
        "colab": {}
      },
      "source": [
        "np_test= np.arange(25).reshape(5,5)\n",
        "np.fill_diagonal(np_test,0)"
      ],
      "execution_count": 0,
      "outputs": []
    },
    {
      "cell_type": "code",
      "metadata": {
        "id": "l0noho_UnLJQ",
        "colab_type": "code",
        "outputId": "708213e0-44ab-4c64-e802-1e870a5b0ce2",
        "colab": {
          "base_uri": "https://localhost:8080/",
          "height": 101
        }
      },
      "source": [
        "np_test"
      ],
      "execution_count": 0,
      "outputs": [
        {
          "output_type": "execute_result",
          "data": {
            "text/plain": [
              "array([[ 0,  1,  2,  3,  4],\n",
              "       [ 5,  0,  7,  8,  9],\n",
              "       [10, 11,  0, 13, 14],\n",
              "       [15, 16, 17,  0, 19],\n",
              "       [20, 21, 22, 23,  0]])"
            ]
          },
          "metadata": {
            "tags": []
          },
          "execution_count": 146
        }
      ]
    },
    {
      "cell_type": "markdown",
      "metadata": {
        "id": "E04gHA_fwsRn",
        "colab_type": "text"
      },
      "source": [
        "#Load Titanic Data"
      ]
    },
    {
      "cell_type": "code",
      "metadata": {
        "id": "ohPnWpbu9WU5",
        "colab_type": "code",
        "colab": {}
      },
      "source": [
        "import numpy as np\n",
        "titanics = np.genfromtxt('https://raw.githubusercontent.com/earthzxc/DW/master/5555.csv',delimiter=';',missing_values = None,dtype=str)"
      ],
      "execution_count": 0,
      "outputs": []
    },
    {
      "cell_type": "code",
      "metadata": {
        "id": "CkjQGi8V_lzD",
        "colab_type": "code",
        "outputId": "13bb15fe-1683-4684-8d58-3f8c1d441626",
        "colab": {
          "base_uri": "https://localhost:8080/",
          "height": 235
        }
      },
      "source": [
        "titanics"
      ],
      "execution_count": 0,
      "outputs": [
        {
          "output_type": "execute_result",
          "data": {
            "text/plain": [
              "array([['\"Passenger Class\"', '\"Name\"', '\"Sex\"', ...,\n",
              "        '\"Port of Embarkation\"', '\"Life Boat\"', '\"Survived\"'],\n",
              "       ['\"First\"', '\"Allen, Miss. Elisabeth Walton\"', '\"Female\"', ...,\n",
              "        '\"Southampton\"', '\"2\"', '\"Yes\"'],\n",
              "       ['\"First\"', '\"Allison, Master. Hudson Trevor\"', '\"Male\"', ...,\n",
              "        '\"Southampton\"', '\"11\"', '\"Yes\"'],\n",
              "       ...,\n",
              "       ['\"Third\"', '\"Zakarian, Mr. Mapriededer\"', '\"Male\"', ...,\n",
              "        '\"Cherbourg\"', '', '\"No\"'],\n",
              "       ['\"Third\"', '\"Zakarian, Mr. Ortin\"', '\"Male\"', ..., '\"Cherbourg\"',\n",
              "        '', '\"No\"'],\n",
              "       ['\"Third\"', '\"Zimmerman, Mr. Leo\"', '\"Male\"', ...,\n",
              "        '\"Southampton\"', '', '\"No\"']], dtype='<U84')"
            ]
          },
          "metadata": {
            "tags": []
          },
          "execution_count": 246
        }
      ]
    },
    {
      "cell_type": "code",
      "metadata": {
        "id": "7QCNYiqN_mJR",
        "colab_type": "code",
        "outputId": "a7e8c921-2092-405c-df34-1a8e4f00e90c",
        "colab": {
          "base_uri": "https://localhost:8080/",
          "height": 101
        }
      },
      "source": [
        "titanics[0,:]"
      ],
      "execution_count": 0,
      "outputs": [
        {
          "output_type": "execute_result",
          "data": {
            "text/plain": [
              "array(['\"Passenger Class\"', '\"Name\"', '\"Sex\"', '\"Age\"',\n",
              "       '\"No of Siblings or Spouses on Board\"',\n",
              "       '\"No of Parents or Children on Board\"', '\"Ticket Number\"',\n",
              "       '\"Passenger Fare\"', '\"Cabin\"', '\"Port of Embarkation\"',\n",
              "       '\"Life Boat\"', '\"Survived\"'], dtype='<U84')"
            ]
          },
          "metadata": {
            "tags": []
          },
          "execution_count": 265
        }
      ]
    },
    {
      "cell_type": "code",
      "metadata": {
        "id": "0dYLC1tx_o4R",
        "colab_type": "code",
        "colab": {}
      },
      "source": [
        "titanics = np.delete(titanics,[1,6,7,8,9,10],1)"
      ],
      "execution_count": 0,
      "outputs": []
    },
    {
      "cell_type": "code",
      "metadata": {
        "id": "E0s2ONel_raB",
        "colab_type": "code",
        "outputId": "8ab8c9ef-dbca-4fa4-a60b-6bfedc43f957",
        "colab": {
          "base_uri": "https://localhost:8080/",
          "height": 67
        }
      },
      "source": [
        "titanics[0,:]"
      ],
      "execution_count": 0,
      "outputs": [
        {
          "output_type": "execute_result",
          "data": {
            "text/plain": [
              "array(['\"Passenger Class\"', '\"Sex\"', '\"Age\"',\n",
              "       '\"No of Siblings or Spouses on Board\"',\n",
              "       '\"No of Parents or Children on Board\"', '\"Survived\"'], dtype='<U84')"
            ]
          },
          "metadata": {
            "tags": []
          },
          "execution_count": 267
        }
      ]
    },
    {
      "cell_type": "code",
      "metadata": {
        "id": "-x49mInO_s5J",
        "colab_type": "code",
        "outputId": "2043bdab-1517-4834-d332-7a1535bcb607",
        "colab": {
          "base_uri": "https://localhost:8080/",
          "height": 34
        }
      },
      "source": [
        "rows, cols = np.where(titanics == None)\n",
        "print(str(len(np.unique(rows)))+\" \"+str(len(np.unique(cols))))"
      ],
      "execution_count": 0,
      "outputs": [
        {
          "output_type": "stream",
          "text": [
            "0 0\n"
          ],
          "name": "stdout"
        }
      ]
    },
    {
      "cell_type": "code",
      "metadata": {
        "id": "4Pa2pHmv_vHZ",
        "colab_type": "code",
        "outputId": "4a1cdadb-7626-4382-fce2-faec0126a138",
        "colab": {
          "base_uri": "https://localhost:8080/",
          "height": 34
        }
      },
      "source": [
        "rows, cols = np.where(titanics == '')\n",
        "print(str(len(np.unique(rows)))+\" \"+str(len(np.unique(cols))))"
      ],
      "execution_count": 0,
      "outputs": [
        {
          "output_type": "stream",
          "text": [
            "263 1\n"
          ],
          "name": "stdout"
        }
      ]
    },
    {
      "cell_type": "code",
      "metadata": {
        "id": "1lF6rxis_w7R",
        "colab_type": "code",
        "outputId": "9fb735ac-3dd0-4287-899c-3781e3afb229",
        "colab": {
          "base_uri": "https://localhost:8080/",
          "height": 34
        }
      },
      "source": [
        "np.unique(cols)"
      ],
      "execution_count": 0,
      "outputs": [
        {
          "output_type": "execute_result",
          "data": {
            "text/plain": [
              "array([2])"
            ]
          },
          "metadata": {
            "tags": []
          },
          "execution_count": 229
        }
      ]
    },
    {
      "cell_type": "code",
      "metadata": {
        "id": "g8-gDPE2_yp5",
        "colab_type": "code",
        "outputId": "c5398436-9604-48e3-b586-87a56fe5115b",
        "colab": {
          "base_uri": "https://localhost:8080/",
          "height": 67
        }
      },
      "source": [
        "titanics = np.delete(titanics,2,1)\n",
        "titanics[0,:]"
      ],
      "execution_count": 0,
      "outputs": [
        {
          "output_type": "execute_result",
          "data": {
            "text/plain": [
              "array(['\"Passenger Class\"', '\"Sex\"',\n",
              "       '\"No of Siblings or Spouses on Board\"',\n",
              "       '\"No of Parents or Children on Board\"', '\"Survived\"'], dtype='<U84')"
            ]
          },
          "metadata": {
            "tags": []
          },
          "execution_count": 268
        }
      ]
    },
    {
      "cell_type": "code",
      "metadata": {
        "id": "-4FklJUW_0dZ",
        "colab_type": "code",
        "colab": {}
      },
      "source": [
        "header = titanics[0,:]; titanics = np.delete(titanics,0,0)"
      ],
      "execution_count": 0,
      "outputs": []
    },
    {
      "cell_type": "code",
      "metadata": {
        "id": "F1wR8mJwABjx",
        "colab_type": "code",
        "outputId": "11d7dce8-abb0-4d88-d1e3-8336594c207b",
        "colab": {
          "base_uri": "https://localhost:8080/",
          "height": 34
        }
      },
      "source": [
        "passenger_class = np.unique(titanics[:,0])\n",
        "passenger_class"
      ],
      "execution_count": 0,
      "outputs": [
        {
          "output_type": "execute_result",
          "data": {
            "text/plain": [
              "array(['\"First\"', '\"Second\"', '\"Third\"'], dtype='<U84')"
            ]
          },
          "metadata": {
            "tags": []
          },
          "execution_count": 270
        }
      ]
    },
    {
      "cell_type": "code",
      "metadata": {
        "id": "YylozOlYAL6J",
        "colab_type": "code",
        "outputId": "ef76f2e9-c469-4e0d-9ed9-7096fe27c5e1",
        "colab": {
          "base_uri": "https://localhost:8080/",
          "height": 34
        }
      },
      "source": [
        "passenger_class_value = [sum(titanics[:,0]==passenger_class[0]),\n",
        "                         sum(titanics[:,0]==passenger_class[1]),\n",
        "                         sum(titanics[:,0]==passenger_class[2]) ]\n",
        "passenger_class_value\n",
        "                         "
      ],
      "execution_count": 0,
      "outputs": [
        {
          "output_type": "execute_result",
          "data": {
            "text/plain": [
              "[323, 277, 709]"
            ]
          },
          "metadata": {
            "tags": []
          },
          "execution_count": 254
        }
      ]
    },
    {
      "cell_type": "code",
      "metadata": {
        "id": "wfbmdqLqA6CB",
        "colab_type": "code",
        "outputId": "015ff99c-cdee-4ce9-954f-e5f9456a7150",
        "colab": {
          "base_uri": "https://localhost:8080/",
          "height": 286
        }
      },
      "source": [
        "plt.bar(passenger_class, passenger_class_value)"
      ],
      "execution_count": 0,
      "outputs": [
        {
          "output_type": "execute_result",
          "data": {
            "text/plain": [
              "<BarContainer object of 3 artists>"
            ]
          },
          "metadata": {
            "tags": []
          },
          "execution_count": 284
        },
        {
          "output_type": "display_data",
          "data": {
            "image/png": "[encoded data removed]",
            "text/plain": [
              "<Figure size 432x288 with 1 Axes>"
            ]
          },
          "metadata": {
            "tags": []
          }
        }
      ]
    },
    {
      "cell_type": "code",
      "metadata": {
        "id": "rZhHlPYTBGOx",
        "colab_type": "code",
        "outputId": "bc181014-d7af-49e6-bb37-d1dcbe2c7e88",
        "colab": {
          "base_uri": "https://localhost:8080/",
          "height": 163
        }
      },
      "source": [
        "array(['Female\"', 'Male'], dtype='<U84')"
      ],
      "execution_count": 0,
      "outputs": [
        {
          "output_type": "error",
          "ename": "NameError",
          "evalue": "ignored",
          "traceback": [
            "\u001b[0;31m---------------------------------------------------------------------------\u001b[0m",
            "\u001b[0;31mNameError\u001b[0m                                 Traceback (most recent call last)",
            "\u001b[0;32m<ipython-input-256-25c04e8ddf8b>\u001b[0m in \u001b[0;36m<module>\u001b[0;34m()\u001b[0m\n\u001b[0;32m----> 1\u001b[0;31m \u001b[0marray\u001b[0m\u001b[0;34m(\u001b[0m\u001b[0;34m[\u001b[0m\u001b[0;34m'Female\"'\u001b[0m\u001b[0;34m,\u001b[0m \u001b[0;34m'Male'\u001b[0m\u001b[0;34m]\u001b[0m\u001b[0;34m,\u001b[0m \u001b[0mdtype\u001b[0m\u001b[0;34m=\u001b[0m\u001b[0;34m'<U84'\u001b[0m\u001b[0;34m)\u001b[0m\u001b[0;34m\u001b[0m\u001b[0;34m\u001b[0m\u001b[0m\n\u001b[0m",
            "\u001b[0;31mNameError\u001b[0m: name 'array' is not defined"
          ]
        }
      ]
    },
    {
      "cell_type": "markdown",
      "metadata": {
        "id": "qFbjLJ1FB_fk",
        "colab_type": "text"
      },
      "source": [
        "#ex6"
      ]
    },
    {
      "cell_type": "code",
      "metadata": {
        "id": "kFn6GOQcCCZh",
        "colab_type": "code",
        "colab": {}
      },
      "source": [
        "header = titanics[0,:]; titanics = np.delete(titanics,0,0)"
      ],
      "execution_count": 0,
      "outputs": []
    },
    {
      "cell_type": "code",
      "metadata": {
        "id": "f96fvo37CO6U",
        "colab_type": "code",
        "outputId": "b3f0477f-1140-4c95-8a0f-bedfc9f970c5",
        "colab": {
          "base_uri": "https://localhost:8080/",
          "height": 34
        }
      },
      "source": [
        "gender = np.unique(titanics[:,1])\n",
        "gender"
      ],
      "execution_count": 0,
      "outputs": [
        {
          "output_type": "execute_result",
          "data": {
            "text/plain": [
              "array(['\"Female\"', '\"Male\"'], dtype='<U84')"
            ]
          },
          "metadata": {
            "tags": []
          },
          "execution_count": 258
        }
      ]
    },
    {
      "cell_type": "code",
      "metadata": {
        "id": "UsvrL-tMCVgZ",
        "colab_type": "code",
        "outputId": "cbc813aa-924d-4709-8bbf-e097e617b343",
        "colab": {
          "base_uri": "https://localhost:8080/",
          "height": 34
        }
      },
      "source": [
        "gender_value = [sum(titanics[:,1]==gender[0]),\n",
        "                sum(titanics[:,1]==gender[1]) ]\n",
        "gender_value\n",
        "                         "
      ],
      "execution_count": 0,
      "outputs": [
        {
          "output_type": "execute_result",
          "data": {
            "text/plain": [
              "[465, 843]"
            ]
          },
          "metadata": {
            "tags": []
          },
          "execution_count": 259
        }
      ]
    },
    {
      "cell_type": "code",
      "metadata": {
        "id": "SIq1aiVRKyLm",
        "colab_type": "code",
        "outputId": "9e55f4b3-83f4-48fc-9ea0-9c2538346083",
        "colab": {
          "base_uri": "https://localhost:8080/",
          "height": 34
        }
      },
      "source": [
        "sur = np.unique(titanics[:,4])\n",
        "sur"
      ],
      "execution_count": 0,
      "outputs": [
        {
          "output_type": "execute_result",
          "data": {
            "text/plain": [
              "array(['\"No\"', '\"Yes\"'], dtype='<U84')"
            ]
          },
          "metadata": {
            "tags": []
          },
          "execution_count": 260
        }
      ]
    },
    {
      "cell_type": "code",
      "metadata": {
        "id": "sn75eYHMLt_N",
        "colab_type": "code",
        "outputId": "22d1d6c8-0aeb-43fb-a7ae-347acb651a88",
        "colab": {
          "base_uri": "https://localhost:8080/",
          "height": 34
        }
      },
      "source": [
        "sur_value = [sum(titanics[:,4]==sur[0]),\n",
        "                sum(titanics[:,4]==sur[1]) ]\n",
        "sur_value\n",
        "             "
      ],
      "execution_count": 0,
      "outputs": [
        {
          "output_type": "execute_result",
          "data": {
            "text/plain": [
              "[809, 499]"
            ]
          },
          "metadata": {
            "tags": []
          },
          "execution_count": 261
        }
      ]
    },
    {
      "cell_type": "code",
      "metadata": {
        "id": "cPggY3srHsiw",
        "colab_type": "code",
        "outputId": "a5ed3f9a-9c31-422b-88e2-34083562f986",
        "colab": {
          "base_uri": "https://localhost:8080/",
          "height": 214
        }
      },
      "source": [
        "fig, axes = plt.subplots(1,2,figsize=(8,3))\n",
        "axes[0].bar(gender,gender_value)\n",
        "axes[1].bar(sur,sur_value)\n",
        "plt.show()\n",
        "\n"
      ],
      "execution_count": 0,
      "outputs": [
        {
          "output_type": "display_data",
          "data": {
            "image/png": "[encoded data removed]",
            "text/plain": [
              "<Figure size 576x216 with 2 Axes>"
            ]
          },
          "metadata": {
            "tags": []
          }
        }
      ]
    },
    {
      "cell_type": "code",
      "metadata": {
        "id": "Wi5mYZzHMcvG",
        "colab_type": "code",
        "colab": {}
      },
      "source": [
        ""
      ],
      "execution_count": 0,
      "outputs": []
    },
    {
      "cell_type": "markdown",
      "metadata": {
        "id": "ppGEH2OGNdQz",
        "colab_type": "text"
      },
      "source": [
        "#EX7"
      ]
    },
    {
      "cell_type": "code",
      "metadata": {
        "id": "1iH7hQd8OPnx",
        "colab_type": "code",
        "outputId": "53e5c3fe-66ba-457c-dc19-b3fa84b8f369",
        "colab": {
          "base_uri": "https://localhost:8080/",
          "height": 134
        }
      },
      "source": [
        "titanics = np.delete(titanics,[2],1)\n",
        "titanics"
      ],
      "execution_count": 0,
      "outputs": [
        {
          "output_type": "execute_result",
          "data": {
            "text/plain": [
              "array([['0', '1', '2', '1'],\n",
              "       ['0', '0', '2', '0'],\n",
              "       ['0', '1', '2', '0'],\n",
              "       ...,\n",
              "       ['2', '1', '0', '0'],\n",
              "       ['2', '1', '0', '0'],\n",
              "       ['2', '1', '0', '0']], dtype='<U84')"
            ]
          },
          "metadata": {
            "tags": []
          },
          "execution_count": 243
        }
      ]
    },
    {
      "cell_type": "code",
      "metadata": {
        "id": "1tA4mBZYSmk1",
        "colab_type": "code",
        "outputId": "93ccf1f8-d6e7-4082-ffb0-284dc416ba36",
        "colab": {
          "base_uri": "https://localhost:8080/",
          "height": 134
        }
      },
      "source": [
        "titanics[titanics == passenger_class[0]] = 0\n",
        "titanics[titanics == passenger_class[1]] = 1\n",
        "titanics[titanics == passenger_class[2]] = 2\n",
        "titanics[titanics == gender[0]] = 0\n",
        "titanics[titanics == gender[1]] = 1\n",
        "titanics[titanics == sur[0]] = 0\n",
        "titanics[titanics == sur[1]] = 1\n",
        "\n",
        "titanics"
      ],
      "execution_count": 0,
      "outputs": [
        {
          "output_type": "execute_result",
          "data": {
            "text/plain": [
              "array([['0', '0', '0', '0', '1'],\n",
              "       ['0', '1', '1', '2', '1'],\n",
              "       ['0', '0', '1', '2', '0'],\n",
              "       ...,\n",
              "       ['2', '1', '0', '0', '0'],\n",
              "       ['2', '1', '0', '0', '0'],\n",
              "       ['2', '1', '0', '0', '0']], dtype='<U84')"
            ]
          },
          "metadata": {
            "tags": []
          },
          "execution_count": 278
        }
      ]
    },
    {
      "cell_type": "code",
      "metadata": {
        "id": "RWvp1RneSv-t",
        "colab_type": "code",
        "outputId": "6bee21e6-d6ad-4c07-f56c-894aa28520d0",
        "colab": {
          "base_uri": "https://localhost:8080/",
          "height": 34
        }
      },
      "source": [
        "titanics[0,:]"
      ],
      "execution_count": 0,
      "outputs": [
        {
          "output_type": "execute_result",
          "data": {
            "text/plain": [
              "array(['0', '0', '0', '0', '1'], dtype='<U84')"
            ]
          },
          "metadata": {
            "tags": []
          },
          "execution_count": 279
        }
      ]
    },
    {
      "cell_type": "code",
      "metadata": {
        "id": "L8SOfzLKS9Cw",
        "colab_type": "code",
        "outputId": "fca85d18-28fe-41ef-f91d-97964c6db0fb",
        "colab": {
          "base_uri": "https://localhost:8080/",
          "height": 34
        }
      },
      "source": [
        "titanics = titanics.astype('float')\n",
        "titanics.dtype"
      ],
      "execution_count": 0,
      "outputs": [
        {
          "output_type": "execute_result",
          "data": {
            "text/plain": [
              "dtype('float64')"
            ]
          },
          "metadata": {
            "tags": []
          },
          "execution_count": 280
        }
      ]
    },
    {
      "cell_type": "code",
      "metadata": {
        "id": "zXP3DNVlX5BB",
        "colab_type": "code",
        "outputId": "c6fcb063-4261-45b5-cea2-e9904fcf57fd",
        "colab": {
          "base_uri": "https://localhost:8080/",
          "height": 34
        }
      },
      "source": [
        "y = titanics[:,-1]\n",
        "x = np.delete(titanics,-1,1)\n",
        "x.shape"
      ],
      "execution_count": 0,
      "outputs": [
        {
          "output_type": "execute_result",
          "data": {
            "text/plain": [
              "(1309, 4)"
            ]
          },
          "metadata": {
            "tags": []
          },
          "execution_count": 281
        }
      ]
    },
    {
      "cell_type": "code",
      "metadata": {
        "id": "-rsL6cfTYPoH",
        "colab_type": "code",
        "outputId": "d2729034-5227-47da-b74f-cb9014eaec2e",
        "colab": {
          "base_uri": "https://localhost:8080/",
          "height": 134
        }
      },
      "source": [
        "x_norm = (x-np.min(x,0)) / (np.max(x,0) - np.min(x,0))\n",
        "x_norm"
      ],
      "execution_count": 0,
      "outputs": [
        {
          "output_type": "execute_result",
          "data": {
            "text/plain": [
              "array([[0.        , 0.        , 0.        , 0.        ],\n",
              "       [0.        , 1.        , 0.125     , 0.22222222],\n",
              "       [0.        , 0.        , 0.125     , 0.22222222],\n",
              "       ...,\n",
              "       [1.        , 1.        , 0.        , 0.        ],\n",
              "       [1.        , 1.        , 0.        , 0.        ],\n",
              "       [1.        , 1.        , 0.        , 0.        ]])"
            ]
          },
          "metadata": {
            "tags": []
          },
          "execution_count": 282
        }
      ]
    }
  ]
}