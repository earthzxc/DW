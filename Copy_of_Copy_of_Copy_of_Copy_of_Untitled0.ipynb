{
  "nbformat": 4,
  "nbformat_minor": 0,
  "metadata": {
    "colab": {
      "name": "Copy of Copy of Copy of Copy of Untitled0.ipynb",
      "provenance": [],
      "include_colab_link": true
    },
    "kernelspec": {
      "name": "python3",
      "display_name": "Python 3"
    }
  },
  "cells": [
    {
      "cell_type": "markdown",
      "metadata": {
        "id": "view-in-github",
        "colab_type": "text"
      },
      "source": [
        "<a href=\"https://colab.research.google.com/github/earthzxc/DW/blob/master/Copy_of_Copy_of_Copy_of_Copy_of_Untitled0.ipynb\" target=\"_parent\"><img src=\"https://colab.research.google.com/assets/colab-badge.svg\" alt=\"Open In Colab\"/></a>"
      ]
    },
    {
      "cell_type": "code",
      "metadata": {
        "id": "DW0fUCxth0aQ",
        "colab_type": "code",
        "colab": {}
      },
      "source": [
        ""
      ],
      "execution_count": 0,
      "outputs": []
    },
    {
      "cell_type": "markdown",
      "metadata": {
        "id": "LOCrj0LEiX_t",
        "colab_type": "text"
      },
      "source": [
        "# Hello PyThon\n",
        "## Hello PyThon\n",
        "### Hello PyThon\n"
      ]
    },
    {
      "cell_type": "code",
      "metadata": {
        "id": "o06OF_35iao6",
        "colab_type": "code",
        "outputId": "cd5983b0-13e7-45e9-ed8b-d11db77767bd",
        "colab": {
          "base_uri": "https://localhost:8080/",
          "height": 34
        }
      },
      "source": [
        "print(\"Hello Word\")"
      ],
      "execution_count": 0,
      "outputs": [
        {
          "output_type": "stream",
          "text": [
            "Hello Word\n"
          ],
          "name": "stdout"
        }
      ]
    },
    {
      "cell_type": "markdown",
      "metadata": {
        "id": "BXSpY7LbjVFb",
        "colab_type": "text"
      },
      "source": [
        "# Declare Variable\n",
        "howto Declare Variable"
      ]
    },
    {
      "cell_type": "code",
      "metadata": {
        "id": "_Jh4IzRpjBSw",
        "colab_type": "code",
        "outputId": "59c70dab-5449-459e-ae93-c1a618ac61b2",
        "colab": {
          "base_uri": "https://localhost:8080/",
          "height": 34
        }
      },
      "source": [
        "score = 100\n",
        "name = \"Earth\"\n",
        "print(\"Name is \" + name  + \"score is \"+ str(score))"
      ],
      "execution_count": 0,
      "outputs": [
        {
          "output_type": "stream",
          "text": [
            "Name is Earthscore is 100\n"
          ],
          "name": "stdout"
        }
      ]
    },
    {
      "cell_type": "code",
      "metadata": {
        "id": "fqW4iyFhjudf",
        "colab_type": "code",
        "outputId": "11e48117-4937-437f-8f8c-4f5b2c746f46",
        "colab": {
          "base_uri": "https://localhost:8080/",
          "height": 34
        }
      },
      "source": [
        "a = 2\n",
        "b = 3\n",
        "c = a * b\n",
        "print(c)"
      ],
      "execution_count": 0,
      "outputs": [
        {
          "output_type": "stream",
          "text": [
            "6\n"
          ],
          "name": "stdout"
        }
      ]
    },
    {
      "cell_type": "markdown",
      "metadata": {
        "id": "qMHx8G8JmvCT",
        "colab_type": "text"
      },
      "source": [
        "# List\n",
        "how to use list Python"
      ]
    },
    {
      "cell_type": "code",
      "metadata": {
        "id": "4DgJx6grkUF5",
        "colab_type": "code",
        "outputId": "735738ff-027a-476e-e0d8-a9fffe347870",
        "colab": {
          "base_uri": "https://localhost:8080/",
          "height": 34
        }
      },
      "source": [
        "mylist = []\n",
        "mylist.append(\"Earth\")\n",
        "mylist.append(200)\n",
        "mylist"
      ],
      "execution_count": 0,
      "outputs": [
        {
          "output_type": "execute_result",
          "data": {
            "text/plain": [
              "['Earth', 200]"
            ]
          },
          "metadata": {
            "tags": []
          },
          "execution_count": 1
        }
      ]
    },
    {
      "cell_type": "markdown",
      "metadata": {
        "id": "5kuI62LKnM5q",
        "colab_type": "text"
      },
      "source": [
        "How to count data in list"
      ]
    },
    {
      "cell_type": "code",
      "metadata": {
        "id": "469Ie4mLnLiQ",
        "colab_type": "code",
        "outputId": "eefd033e-428c-4f6c-8f0b-2a64e09203b6",
        "colab": {
          "base_uri": "https://localhost:8080/",
          "height": 34
        }
      },
      "source": [
        "len(mylist)"
      ],
      "execution_count": 0,
      "outputs": [
        {
          "output_type": "execute_result",
          "data": {
            "text/plain": [
              "2"
            ]
          },
          "metadata": {
            "tags": []
          },
          "execution_count": 3
        }
      ]
    },
    {
      "cell_type": "markdown",
      "metadata": {
        "id": "GmLj7HuFn6Pb",
        "colab_type": "text"
      },
      "source": [
        "#If-Else"
      ]
    },
    {
      "cell_type": "code",
      "metadata": {
        "id": "dHB-hpG6nYrp",
        "colab_type": "code",
        "outputId": "27e244da-dd48-46f1-d01b-47ea8b190095",
        "colab": {
          "base_uri": "https://localhost:8080/",
          "height": 34
        }
      },
      "source": [
        "if mylist[1] > 100:\n",
        "  print(\"pass\")\n"
      ],
      "execution_count": 0,
      "outputs": [
        {
          "output_type": "stream",
          "text": [
            "pass\n"
          ],
          "name": "stdout"
        }
      ]
    },
    {
      "cell_type": "code",
      "metadata": {
        "id": "80sDTQjcoVeB",
        "colab_type": "code",
        "outputId": "c7d16507-689e-4f7a-ceb9-c0bc9ab23289",
        "colab": {
          "base_uri": "https://localhost:8080/",
          "height": 34
        }
      },
      "source": [
        "if mylist[1] > 100:\n",
        "  name = mylist[0]\n",
        "  score = mylist[1]\n",
        "  print(name+\" \"+str(score))"
      ],
      "execution_count": 0,
      "outputs": [
        {
          "output_type": "stream",
          "text": [
            "Earth 200\n"
          ],
          "name": "stdout"
        }
      ]
    },
    {
      "cell_type": "code",
      "metadata": {
        "id": "eUz26d_HpYyB",
        "colab_type": "code",
        "outputId": "2ed5c866-f5ee-4acf-cd6b-ae5bb87dd118",
        "colab": {
          "base_uri": "https://localhost:8080/",
          "height": 34
        }
      },
      "source": [
        "score = 5\n",
        "if score > 50 :\n",
        "  print(\"A\")\n",
        "elif score > 20 :\n",
        "  print(\"ฺB\")\n",
        "else:\n",
        "  print(\"C\")\n",
        "if score == 0 :\n",
        "  print(\"F\")"
      ],
      "execution_count": 0,
      "outputs": [
        {
          "output_type": "stream",
          "text": [
            "C\n"
          ],
          "name": "stdout"
        }
      ]
    },
    {
      "cell_type": "markdown",
      "metadata": {
        "id": "a5OMO0yeqXDC",
        "colab_type": "text"
      },
      "source": [
        "# For Loop"
      ]
    },
    {
      "cell_type": "code",
      "metadata": {
        "id": "5YDVmaIRq8bB",
        "colab_type": "code",
        "outputId": "fb3f93b6-f8c5-45d6-f0ba-15ef3a0ee16e",
        "colab": {
          "base_uri": "https://localhost:8080/",
          "height": 187
        }
      },
      "source": [
        "summation = []\n",
        "i = 0\n",
        "for i in range(0,10):\n",
        "  i = i + 2\n",
        "  summation.append(i)\n",
        "  \n",
        "for i in summation:\n",
        "  print(str(i))\n",
        "  "
      ],
      "execution_count": 0,
      "outputs": [
        {
          "output_type": "stream",
          "text": [
            "2\n",
            "3\n",
            "4\n",
            "5\n",
            "6\n",
            "7\n",
            "8\n",
            "9\n",
            "10\n",
            "11\n"
          ],
          "name": "stdout"
        }
      ]
    },
    {
      "cell_type": "markdown",
      "metadata": {
        "id": "rgVr_J5zsq20",
        "colab_type": "text"
      },
      "source": [
        ""
      ]
    },
    {
      "cell_type": "code",
      "metadata": {
        "id": "oH88GMK5rPTI",
        "colab_type": "code",
        "outputId": "5e7f2fd6-f3b5-414b-d9df-f3154940e36c",
        "colab": {
          "base_uri": "https://localhost:8080/",
          "height": 187
        }
      },
      "source": [
        "for i in summation:\n",
        "  print(str(i)) "
      ],
      "execution_count": 0,
      "outputs": [
        {
          "output_type": "stream",
          "text": [
            "2\n",
            "3\n",
            "4\n",
            "5\n",
            "6\n",
            "7\n",
            "8\n",
            "9\n",
            "10\n",
            "11\n"
          ],
          "name": "stdout"
        }
      ]
    },
    {
      "cell_type": "markdown",
      "metadata": {
        "id": "X7Jg-DhRvn-d",
        "colab_type": "text"
      },
      "source": [
        "# NumPy"
      ]
    },
    {
      "cell_type": "code",
      "metadata": {
        "id": "S7jn0Zc8tcbh",
        "colab_type": "code",
        "outputId": "40d3b0a3-5da5-4f7c-a99e-41039c790a38",
        "colab": {
          "base_uri": "https://localhost:8080/",
          "height": 34
        }
      },
      "source": [
        "import numpy as np\n",
        "l = [1, 2, 3, 4, 5]\n",
        "np_array = np.array(l)\n",
        "type(np_array)\n",
        "\n"
      ],
      "execution_count": 0,
      "outputs": [
        {
          "output_type": "execute_result",
          "data": {
            "text/plain": [
              "numpy.ndarray"
            ]
          },
          "metadata": {
            "tags": []
          },
          "execution_count": 5
        }
      ]
    },
    {
      "cell_type": "code",
      "metadata": {
        "id": "E9f6GplbwqaX",
        "colab_type": "code",
        "outputId": "24fdab37-9484-40f6-a539-56283b144833",
        "colab": {
          "base_uri": "https://localhost:8080/",
          "height": 68
        }
      },
      "source": [
        "np_matrix = np.array([[1,2],[3,4],[5,6]])\n",
        "np_matrix\n"
      ],
      "execution_count": 0,
      "outputs": [
        {
          "output_type": "execute_result",
          "data": {
            "text/plain": [
              "array([[1, 2],\n",
              "       [3, 4],\n",
              "       [5, 6]])"
            ]
          },
          "metadata": {
            "tags": []
          },
          "execution_count": 6
        }
      ]
    },
    {
      "cell_type": "code",
      "metadata": {
        "id": "gsU2so0Rx6TA",
        "colab_type": "code",
        "outputId": "4806b170-be55-4474-8cbe-d4f0302113cd",
        "colab": {
          "base_uri": "https://localhost:8080/",
          "height": 34
        }
      },
      "source": [
        "np.size(np_matrix,0)"
      ],
      "execution_count": 0,
      "outputs": [
        {
          "output_type": "execute_result",
          "data": {
            "text/plain": [
              "3"
            ]
          },
          "metadata": {
            "tags": []
          },
          "execution_count": 7
        }
      ]
    },
    {
      "cell_type": "code",
      "metadata": {
        "id": "NaIea8RkyH4B",
        "colab_type": "code",
        "outputId": "bfe0b7cd-9fe5-4d23-aa56-0145d7947e5f",
        "colab": {
          "base_uri": "https://localhost:8080/",
          "height": 34
        }
      },
      "source": [
        "np.size(np_matrix,1)"
      ],
      "execution_count": 0,
      "outputs": [
        {
          "output_type": "execute_result",
          "data": {
            "text/plain": [
              "2"
            ]
          },
          "metadata": {
            "tags": []
          },
          "execution_count": 8
        }
      ]
    },
    {
      "cell_type": "code",
      "metadata": {
        "id": "Lbg2M2QyyQZh",
        "colab_type": "code",
        "outputId": "13ba1500-28a7-43f0-af2d-6aa3bb39f1a8",
        "colab": {
          "base_uri": "https://localhost:8080/",
          "height": 34
        }
      },
      "source": [
        "np_matrix.shape"
      ],
      "execution_count": 0,
      "outputs": [
        {
          "output_type": "execute_result",
          "data": {
            "text/plain": [
              "(3, 2)"
            ]
          },
          "metadata": {
            "tags": []
          },
          "execution_count": 9
        }
      ]
    },
    {
      "cell_type": "code",
      "metadata": {
        "id": "08JxRHIqyY6h",
        "colab_type": "code",
        "outputId": "3e4e1078-994c-4783-c6b0-6d081d0e8884",
        "colab": {
          "base_uri": "https://localhost:8080/",
          "height": 34
        }
      },
      "source": [
        "np_matrix.ndim"
      ],
      "execution_count": 0,
      "outputs": [
        {
          "output_type": "execute_result",
          "data": {
            "text/plain": [
              "2"
            ]
          },
          "metadata": {
            "tags": []
          },
          "execution_count": 10
        }
      ]
    },
    {
      "cell_type": "code",
      "metadata": {
        "id": "nYlCWH8zyb-B",
        "colab_type": "code",
        "outputId": "a2a3337b-62df-4f3b-ea66-e3f20b5a18f6",
        "colab": {
          "base_uri": "https://localhost:8080/",
          "height": 34
        }
      },
      "source": [
        "np_matrix.size"
      ],
      "execution_count": 0,
      "outputs": [
        {
          "output_type": "execute_result",
          "data": {
            "text/plain": [
              "6"
            ]
          },
          "metadata": {
            "tags": []
          },
          "execution_count": 11
        }
      ]
    },
    {
      "cell_type": "code",
      "metadata": {
        "id": "mVZZ-LCUydnY",
        "colab_type": "code",
        "outputId": "50838d53-db1a-4fc9-9d5d-e71a01b1ca1c",
        "colab": {
          "base_uri": "https://localhost:8080/",
          "height": 68
        }
      },
      "source": [
        "np_mix_matrix = np.array([['one',2],['three',4],['five',6]])\n",
        "np_mix_matrix"
      ],
      "execution_count": 0,
      "outputs": [
        {
          "output_type": "execute_result",
          "data": {
            "text/plain": [
              "array([['one', '2'],\n",
              "       ['three', '4'],\n",
              "       ['five', '6']], dtype='<U5')"
            ]
          },
          "metadata": {
            "tags": []
          },
          "execution_count": 14
        }
      ]
    },
    {
      "cell_type": "code",
      "metadata": {
        "id": "K1sDwmrzy0zo",
        "colab_type": "code",
        "outputId": "1a3dc90f-b43c-4a67-be84-17ba34acaca7",
        "colab": {
          "base_uri": "https://localhost:8080/",
          "height": 34
        }
      },
      "source": [
        "np_mix_matrix[0,1]"
      ],
      "execution_count": 0,
      "outputs": [
        {
          "output_type": "execute_result",
          "data": {
            "text/plain": [
              "'2'"
            ]
          },
          "metadata": {
            "tags": []
          },
          "execution_count": 16
        }
      ]
    },
    {
      "cell_type": "code",
      "metadata": {
        "id": "TlsfVmhKzN3A",
        "colab_type": "code",
        "outputId": "a55f8a0f-53ba-4560-fd76-f2b686e3fb6c",
        "colab": {
          "base_uri": "https://localhost:8080/",
          "height": 34
        }
      },
      "source": [
        "np_mix_matrix[:,1]"
      ],
      "execution_count": 0,
      "outputs": [
        {
          "output_type": "execute_result",
          "data": {
            "text/plain": [
              "array(['2', '4', '6'], dtype='<U5')"
            ]
          },
          "metadata": {
            "tags": []
          },
          "execution_count": 17
        }
      ]
    },
    {
      "cell_type": "code",
      "metadata": {
        "id": "WRwiEZgHzRMI",
        "colab_type": "code",
        "outputId": "5ce3bf6a-b2b8-44f1-a43f-4d4b7883107f",
        "colab": {
          "base_uri": "https://localhost:8080/",
          "height": 34
        }
      },
      "source": [
        "np_mix_matrix[0,]"
      ],
      "execution_count": 0,
      "outputs": [
        {
          "output_type": "execute_result",
          "data": {
            "text/plain": [
              "array(['one', '2'], dtype='<U5')"
            ]
          },
          "metadata": {
            "tags": []
          },
          "execution_count": 18
        }
      ]
    },
    {
      "cell_type": "code",
      "metadata": {
        "id": "3C6rtr6pzSpg",
        "colab_type": "code",
        "outputId": "e523cd42-d69e-4d79-c48b-7072e547288a",
        "colab": {
          "base_uri": "https://localhost:8080/",
          "height": 51
        }
      },
      "source": [
        "np_mix_matrix[0:2,]"
      ],
      "execution_count": 0,
      "outputs": [
        {
          "output_type": "execute_result",
          "data": {
            "text/plain": [
              "array([['one', '2'],\n",
              "       ['three', '4']], dtype='<U5')"
            ]
          },
          "metadata": {
            "tags": []
          },
          "execution_count": 19
        }
      ]
    },
    {
      "cell_type": "code",
      "metadata": {
        "id": "sNRHp75QzYqg",
        "colab_type": "code",
        "outputId": "4aa29182-8f65-4c99-9593-4a1a22544798",
        "colab": {
          "base_uri": "https://localhost:8080/",
          "height": 34
        }
      },
      "source": [
        "np.array(np_mix_matrix[:,1], dtype = int)"
      ],
      "execution_count": 0,
      "outputs": [
        {
          "output_type": "execute_result",
          "data": {
            "text/plain": [
              "array([2, 4, 6])"
            ]
          },
          "metadata": {
            "tags": []
          },
          "execution_count": 21
        }
      ]
    },
    {
      "cell_type": "code",
      "metadata": {
        "id": "u-OhmyZszlMZ",
        "colab_type": "code",
        "outputId": "ebd444fb-8da5-4994-d88c-a470bad1c437",
        "colab": {
          "base_uri": "https://localhost:8080/",
          "height": 51
        }
      },
      "source": [
        "np.zeros([2,3])"
      ],
      "execution_count": 0,
      "outputs": [
        {
          "output_type": "execute_result",
          "data": {
            "text/plain": [
              "array([[0., 0., 0.],\n",
              "       [0., 0., 0.]])"
            ]
          },
          "metadata": {
            "tags": []
          },
          "execution_count": 23
        }
      ]
    },
    {
      "cell_type": "code",
      "metadata": {
        "id": "TciTa7Ob0S8Q",
        "colab_type": "code",
        "outputId": "5b514b88-1f09-431a-c35b-b45c36e98bd2",
        "colab": {
          "base_uri": "https://localhost:8080/",
          "height": 102
        }
      },
      "source": [
        "np.ones([5,5])"
      ],
      "execution_count": 0,
      "outputs": [
        {
          "output_type": "execute_result",
          "data": {
            "text/plain": [
              "array([[1., 1., 1., 1., 1.],\n",
              "       [1., 1., 1., 1., 1.],\n",
              "       [1., 1., 1., 1., 1.],\n",
              "       [1., 1., 1., 1., 1.],\n",
              "       [1., 1., 1., 1., 1.]])"
            ]
          },
          "metadata": {
            "tags": []
          },
          "execution_count": 24
        }
      ]
    },
    {
      "cell_type": "code",
      "metadata": {
        "id": "KXqJzrf_0ZyY",
        "colab_type": "code",
        "outputId": "9c85ef72-78de-4b1f-83f2-7b1f65d71dff",
        "colab": {
          "base_uri": "https://localhost:8080/",
          "height": 102
        }
      },
      "source": [
        "np.eye(5)"
      ],
      "execution_count": 0,
      "outputs": [
        {
          "output_type": "execute_result",
          "data": {
            "text/plain": [
              "array([[1., 0., 0., 0., 0.],\n",
              "       [0., 1., 0., 0., 0.],\n",
              "       [0., 0., 1., 0., 0.],\n",
              "       [0., 0., 0., 1., 0.],\n",
              "       [0., 0., 0., 0., 1.]])"
            ]
          },
          "metadata": {
            "tags": []
          },
          "execution_count": 25
        }
      ]
    },
    {
      "cell_type": "code",
      "metadata": {
        "id": "Sn5y_lXA0e_B",
        "colab_type": "code",
        "outputId": "8eea48f6-0803-4d86-d08f-19acfe0e1af5",
        "colab": {
          "base_uri": "https://localhost:8080/",
          "height": 102
        }
      },
      "source": [
        "np.empty([5,5])"
      ],
      "execution_count": 0,
      "outputs": [
        {
          "output_type": "execute_result",
          "data": {
            "text/plain": [
              "array([[1., 0., 0., 0., 0.],\n",
              "       [0., 1., 0., 0., 0.],\n",
              "       [0., 0., 1., 0., 0.],\n",
              "       [0., 0., 0., 1., 0.],\n",
              "       [0., 0., 0., 0., 1.]])"
            ]
          },
          "metadata": {
            "tags": []
          },
          "execution_count": 26
        }
      ]
    },
    {
      "cell_type": "code",
      "metadata": {
        "id": "MsbJ_rT40j0y",
        "colab_type": "code",
        "outputId": "d8ae6d86-d3d4-47e6-fc91-4c6f96f70665",
        "colab": {
          "base_uri": "https://localhost:8080/",
          "height": 102
        }
      },
      "source": [
        "np.random.rand(5,5)"
      ],
      "execution_count": 0,
      "outputs": [
        {
          "output_type": "execute_result",
          "data": {
            "text/plain": [
              "array([[0.6515179 , 0.07138959, 0.35990545, 0.90209533, 0.52433085],\n",
              "       [0.83433188, 0.93076353, 0.65392965, 0.70397341, 0.98069283],\n",
              "       [0.04200326, 0.42086677, 0.43506387, 0.36824937, 0.00415401],\n",
              "       [0.43126723, 0.20954657, 0.14357168, 0.02488184, 0.79156155],\n",
              "       [0.68427319, 0.90646115, 0.64313831, 0.79041271, 0.26049197]])"
            ]
          },
          "metadata": {
            "tags": []
          },
          "execution_count": 27
        }
      ]
    },
    {
      "cell_type": "code",
      "metadata": {
        "id": "tmcjKBi80rsY",
        "colab_type": "code",
        "outputId": "7653ff29-704e-4f00-e6d7-7d8c0c91381c",
        "colab": {
          "base_uri": "https://localhost:8080/",
          "height": 68
        }
      },
      "source": [
        "np.random.randint(5,size = (3,3))"
      ],
      "execution_count": 0,
      "outputs": [
        {
          "output_type": "execute_result",
          "data": {
            "text/plain": [
              "array([[1, 3, 1],\n",
              "       [3, 4, 2],\n",
              "       [2, 3, 3]])"
            ]
          },
          "metadata": {
            "tags": []
          },
          "execution_count": 28
        }
      ]
    },
    {
      "cell_type": "code",
      "metadata": {
        "id": "8ZLtwuA801mQ",
        "colab_type": "code",
        "outputId": "7d9ee63c-8f4a-4a2e-ca90-ea61481c5de7",
        "colab": {
          "base_uri": "https://localhost:8080/",
          "height": 214
        }
      },
      "source": [
        "import matplotlib.pyplot as plt\n",
        "fig, axes = plt.subplots(1,2,figsize=(8,3))\n",
        "axes[0].hist(np.random.rand(1000))\n",
        "axes[1].hist(np.random.randn(1000))\n",
        "plt.show()\n",
        "\n"
      ],
      "execution_count": 0,
      "outputs": [
        {
          "output_type": "display_data",
          "data": {
            "image/png": "[encoded data removed]",
            "text/plain": [
              "<Figure size 576x216 with 2 Axes>"
            ]
          },
          "metadata": {
            "tags": []
          }
        }
      ]
    },
    {
      "cell_type": "code",
      "metadata": {
        "id": "dsuRUx7s1koo",
        "colab_type": "code",
        "outputId": "6b7557b3-3415-4c1d-cf26-83290f242fb3",
        "colab": {
          "base_uri": "https://localhost:8080/",
          "height": 34
        }
      },
      "source": [
        "np.random.choice(5,3,replace = False)\n"
      ],
      "execution_count": 0,
      "outputs": [
        {
          "output_type": "execute_result",
          "data": {
            "text/plain": [
              "array([4, 3, 2])"
            ]
          },
          "metadata": {
            "tags": []
          },
          "execution_count": 32
        }
      ]
    },
    {
      "cell_type": "code",
      "metadata": {
        "id": "nwHK0UX62Kfg",
        "colab_type": "code",
        "outputId": "63a9b6cf-c500-4bb5-abc8-8b0e70ab03d4",
        "colab": {
          "base_uri": "https://localhost:8080/",
          "height": 68
        }
      },
      "source": [
        "np_matrix = np.random.rand(5,5)\n",
        "idx_choose = np.random.choice(5,3,replace = False)\n",
        "np_matrix_choose = np_matrix[idx_choose,:]\n",
        "np_matrix_choose"
      ],
      "execution_count": 0,
      "outputs": [
        {
          "output_type": "execute_result",
          "data": {
            "text/plain": [
              "array([[0.33502567, 0.49631935, 0.83859485, 0.57742027, 0.52889926],\n",
              "       [0.08751439, 0.90283775, 0.14953011, 0.31741951, 0.04854481],\n",
              "       [0.65599077, 0.26836514, 0.27186318, 0.63893494, 0.30689826]])"
            ]
          },
          "metadata": {
            "tags": []
          },
          "execution_count": 34
        }
      ]
    },
    {
      "cell_type": "code",
      "metadata": {
        "id": "AVYlIGeU3D54",
        "colab_type": "code",
        "outputId": "9f0b64f0-7a98-4a2d-a609-5a2613ed6636",
        "colab": {
          "base_uri": "https://localhost:8080/",
          "height": 187
        }
      },
      "source": [
        "a = np.random.rand(10,5)\n",
        "b = np.random.choice(2,10)\n",
        "a[:,4] = b\n",
        "a"
      ],
      "execution_count": 0,
      "outputs": [
        {
          "output_type": "execute_result",
          "data": {
            "text/plain": [
              "array([[0.07536914, 0.29633554, 0.70067571, 0.65931874, 1.        ],\n",
              "       [0.64872986, 0.30494816, 0.72839847, 0.90821832, 0.        ],\n",
              "       [0.93605078, 0.53482799, 0.36880084, 0.0024453 , 1.        ],\n",
              "       [0.76991817, 0.79402771, 0.76397442, 0.50876032, 0.        ],\n",
              "       [0.0480083 , 0.82882729, 0.71199517, 0.82695128, 0.        ],\n",
              "       [0.36460437, 0.17444231, 0.88598233, 0.02500248, 0.        ],\n",
              "       [0.44697263, 0.82809548, 0.79338459, 0.92587599, 0.        ],\n",
              "       [0.04443013, 0.85232973, 0.64796143, 0.20224545, 0.        ],\n",
              "       [0.23147525, 0.23607298, 0.71008381, 0.91665969, 1.        ],\n",
              "       [0.62175529, 0.12580629, 0.80912533, 0.98594992, 0.        ]])"
            ]
          },
          "metadata": {
            "tags": []
          },
          "execution_count": 63
        }
      ]
    },
    {
      "cell_type": "code",
      "metadata": {
        "id": "aG35Tdrh9yXZ",
        "colab_type": "code",
        "outputId": "1ee6b5c0-a809-43b5-dae2-d6c4f08fc7b5",
        "colab": {
          "base_uri": "https://localhost:8080/",
          "height": 187
        }
      },
      "source": [
        "aa = np.random.rand(10,5)\n",
        "aa"
      ],
      "execution_count": 0,
      "outputs": [
        {
          "output_type": "execute_result",
          "data": {
            "text/plain": [
              "array([[0.91348628, 0.81172295, 0.5400814 , 0.12267345, 0.70245143],\n",
              "       [0.21925011, 0.08546425, 0.15675576, 0.49861951, 0.85302674],\n",
              "       [0.20083915, 0.98897794, 0.22797535, 0.68016297, 0.42935469],\n",
              "       [0.04984505, 0.74325154, 0.06357905, 0.84471437, 0.14843419],\n",
              "       [0.02788631, 0.38042484, 0.44205763, 0.51588827, 0.07875571],\n",
              "       [0.47771952, 0.07685411, 0.99676327, 0.69321925, 0.98819403],\n",
              "       [0.00221743, 0.76525412, 0.16637767, 0.82003611, 0.34193273],\n",
              "       [0.17863346, 0.7459383 , 0.77290079, 0.03040622, 0.11137691],\n",
              "       [0.0882062 , 0.21330831, 0.18935229, 0.53616321, 0.26725502],\n",
              "       [0.64938981, 0.59371479, 0.46981536, 0.78702582, 0.07346478]])"
            ]
          },
          "metadata": {
            "tags": []
          },
          "execution_count": 101
        }
      ]
    },
    {
      "cell_type": "code",
      "metadata": {
        "id": "D7m37pix97rH",
        "colab_type": "code",
        "outputId": "0e69920b-c8a9-4fc0-c94e-2734cab627a9",
        "colab": {
          "base_uri": "https://localhost:8080/",
          "height": 34
        }
      },
      "source": [
        "bb = np.random.choice(3,10)\n",
        "bb"
      ],
      "execution_count": 0,
      "outputs": [
        {
          "output_type": "execute_result",
          "data": {
            "text/plain": [
              "array([2, 1, 0, 2, 0, 2, 2, 0, 0, 2])"
            ]
          },
          "metadata": {
            "tags": []
          },
          "execution_count": 102
        }
      ]
    },
    {
      "cell_type": "code",
      "metadata": {
        "id": "MA01awekBn48",
        "colab_type": "code",
        "outputId": "94523eee-8b06-4753-faca-d4e9d447a315",
        "colab": {
          "base_uri": "https://localhost:8080/",
          "height": 102
        }
      },
      "source": [
        "result = np.where(bb==2)\n",
        "aa[result]"
      ],
      "execution_count": 0,
      "outputs": [
        {
          "output_type": "execute_result",
          "data": {
            "text/plain": [
              "array([[0.91348628, 0.81172295, 0.5400814 , 0.12267345, 0.70245143],\n",
              "       [0.04984505, 0.74325154, 0.06357905, 0.84471437, 0.14843419],\n",
              "       [0.47771952, 0.07685411, 0.99676327, 0.69321925, 0.98819403],\n",
              "       [0.00221743, 0.76525412, 0.16637767, 0.82003611, 0.34193273],\n",
              "       [0.64938981, 0.59371479, 0.46981536, 0.78702582, 0.07346478]])"
            ]
          },
          "metadata": {
            "tags": []
          },
          "execution_count": 104
        }
      ]
    }
  ]
}